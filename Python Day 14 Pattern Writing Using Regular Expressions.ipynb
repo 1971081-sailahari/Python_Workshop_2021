{
 "cells": [
  {
   "cell_type": "markdown",
   "id": "4c75ec45",
   "metadata": {},
   "source": [
    "#### Name Validation \n",
    "\n",
    "* M Sailahari\n",
    "* Sailahari M\n",
    "* M. Sailahari\n",
    "* M Sai Lahari\n",
    "* Sai Lahari M\n",
    "* M. Sai Lahari\n",
    "* Sai Lahari Meka\n",
    "* Meka Sai Lahari\n",
    "* Meka. Sai Lahari"
   ]
  },
  {
   "cell_type": "code",
   "execution_count": 17,
   "id": "2d1c184c",
   "metadata": {},
   "outputs": [
    {
     "name": "stdout",
     "output_type": "stream",
     "text": [
      "M Sailahari\n"
     ]
    }
   ],
   "source": [
    "import re\n",
    "pattern = \"[A-Z][A-Za-z]{0,10}[.]{0,1}[][A-Z][A-za-z]{2,10}[]{0,1}[A-Z]{0,1}[A-ZA-z]{0,8}\"\n",
    "n = input()\n",
    "re.match(pattern,n)"
   ]
  },
  {
   "cell_type": "markdown",
   "id": "5b9cfb9e",
   "metadata": {},
   "source": [
    "#### phone number pattern\n",
    "* 6745321986\n",
    "* 06745321986\n",
    "* 9106745321986\n",
    "* +9106745321986"
   ]
  },
  {
   "cell_type": "code",
   "execution_count": 9,
   "id": "f3f0bef5",
   "metadata": {},
   "outputs": [
    {
     "name": "stdout",
     "output_type": "stream",
     "text": [
      "917865455439\n"
     ]
    },
    {
     "data": {
      "text/plain": [
       "<re.Match object; span=(0, 12), match='917865455439'>"
      ]
     },
     "execution_count": 9,
     "metadata": {},
     "output_type": "execute_result"
    }
   ],
   "source": [
    "pattern = \"[+]{0,1}[9][1][6-9][0-9]{9}|[0]{0,1}[6,9][0,9]{9}\"\n",
    "n = input()\n",
    "re.match(pattern,n)"
   ]
  },
  {
   "cell_type": "markdown",
   "id": "9e3fa6f7",
   "metadata": {},
   "source": [
    "#### Email validator\n",
    "* sailahari1101@gmail.com(mailto:sailahari1101@gmail.com)\n",
    "* all letters must be lowercase alphabets ===> 6 max 14\n",
    "* contains some numbers(optional)==> 1 to 6\n",
    "* it may contain special characters(optional)==>[&.-_]\n",
    "* after special character must contain numbers or digits\n",
    "* must contain @\n",
    "* must contains some alphabets ===> length 4-8\n",
    "* must contain .\n",
    "* must contains some alphabets ===> length 2-4\n"
   ]
  },
  {
   "cell_type": "markdown",
   "id": "48d50eb7",
   "metadata": {},
   "source": [
    "### Comprehensions\n",
    "#### Comprehensions are used to reduce the nuber of lines of code"
   ]
  },
  {
   "cell_type": "markdown",
   "id": "04dae1ce",
   "metadata": {},
   "source": [
    "### Types\n",
    "* List comprehension\n",
    "* Set comprehension\n",
    "* Dictionary comprehension"
   ]
  },
  {
   "cell_type": "markdown",
   "id": "9918a8e9",
   "metadata": {},
   "source": [
    "### List comprehension\n",
    "Syntax:\n",
    "* if only if condition is there===>[output loop condition]\n",
    "* if contains both if and else===>[output(if) condition loop]"
   ]
  },
  {
   "cell_type": "code",
   "execution_count": 11,
   "id": "0a733132",
   "metadata": {},
   "outputs": [
    {
     "name": "stdout",
     "output_type": "stream",
     "text": [
      "Even numbers: [2, 4, 6, 8]\n"
     ]
    }
   ],
   "source": [
    "l = [1,2,3,4,5,6,7,8,9] # output: even numbers [2,3,4,8]\n",
    "l1= []\n",
    "for i in l:\n",
    "    if i%2==0:\n",
    "        l1.append(i)\n",
    "print(\"Even numbers:\",l1)"
   ]
  },
  {
   "cell_type": "code",
   "execution_count": 12,
   "id": "5c60269e",
   "metadata": {},
   "outputs": [
    {
     "name": "stdout",
     "output_type": "stream",
     "text": [
      "Even Numbers: [2, 4, 6, 8]\n"
     ]
    }
   ],
   "source": [
    "### List Comprehension\n",
    "s = [i for i in l if i%2==0]\n",
    "print(\"Even Numbers:\",s)"
   ]
  },
  {
   "cell_type": "code",
   "execution_count": 13,
   "id": "c7de58f3",
   "metadata": {},
   "outputs": [
    {
     "data": {
      "text/plain": [
       "['odd', 'Even', 'odd', 'Even', 'odd', 'Even', 'odd', 'Even', 'odd']"
      ]
     },
     "execution_count": 13,
     "metadata": {},
     "output_type": "execute_result"
    }
   ],
   "source": [
    "[\"Even\" if i%2==0 else \"odd\" for i in l]"
   ]
  },
  {
   "cell_type": "code",
   "execution_count": 14,
   "id": "00ed029e",
   "metadata": {},
   "outputs": [
    {
     "data": {
      "text/plain": [
       "['a', 'b']"
      ]
     },
     "execution_count": 14,
     "metadata": {},
     "output_type": "execute_result"
    }
   ],
   "source": [
    "l = [1,2,3,4,\"a\",\"b\"]\n",
    "[i for i in l if str(i).isalpha()] #1,2,3 # \"1\",\"2\""
   ]
  },
  {
   "cell_type": "code",
   "execution_count": null,
   "id": "48161051",
   "metadata": {},
   "outputs": [],
   "source": []
  }
 ],
 "metadata": {
  "kernelspec": {
   "display_name": "Python 3",
   "language": "python",
   "name": "python3"
  },
  "language_info": {
   "codemirror_mode": {
    "name": "ipython",
    "version": 3
   },
   "file_extension": ".py",
   "mimetype": "text/x-python",
   "name": "python",
   "nbconvert_exporter": "python",
   "pygments_lexer": "ipython3",
   "version": "3.8.8"
  }
 },
 "nbformat": 4,
 "nbformat_minor": 5
}
