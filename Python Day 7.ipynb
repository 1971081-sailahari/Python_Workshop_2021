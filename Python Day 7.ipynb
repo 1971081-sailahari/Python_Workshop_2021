{
 "cells": [
  {
   "cell_type": "markdown",
   "id": "bb420812",
   "metadata": {},
   "source": [
    "### Todays topics\n",
    "- Sring methods\n",
    "\n",
    "#### Data Structures\n",
    "- List"
   ]
  },
  {
   "cell_type": "code",
   "execution_count": 1,
   "id": "efa7e2d5",
   "metadata": {},
   "outputs": [],
   "source": [
    "# prime number\n",
    "# 17 (1,2,3,...17) # 2\n",
    "#17   (2,3,...16)    # 0"
   ]
  },
  {
   "cell_type": "code",
   "execution_count": 4,
   "id": "201868d6",
   "metadata": {},
   "outputs": [
    {
     "name": "stdout",
     "output_type": "stream",
     "text": [
      "enter a number8\n",
      "4\n"
     ]
    }
   ],
   "source": [
    "# factors\n",
    "# 8 (1,2,4,8)\n",
    "\n",
    "n = int(input(\"enter a number\")) #8\n",
    "c = 0\n",
    "for i in range(1,n+1): #1,2,3...8\n",
    "# for i in range(2,n): #2,3...7\n",
    "    if n%i == 0:\n",
    "        #print(i)\n",
    "        c=c+1\n",
    "        \n",
    "print(c)"
   ]
  },
  {
   "cell_type": "code",
   "execution_count": 3,
   "id": "6bda5682",
   "metadata": {},
   "outputs": [
    {
     "name": "stdout",
     "output_type": "stream",
     "text": [
      "enter a number8\n",
      "1 2 4 8 \n",
      "4\n"
     ]
    }
   ],
   "source": [
    "# factors\n",
    "# 8 (1,2,4,8)\n",
    "\n",
    "n = int(input(\"enter a number\")) #4(1,2,4)\n",
    "c = 0 #1,2,3\n",
    "for i in range(1,n+1): #1,2,3,4\n",
    "    if n%i == 0: #4%1==0,4%2==0,4%3==0,4%4==0\n",
    "        print(i,end=\" \")\n",
    "        c=c+1 #1,2\n",
    "print()\n",
    "print(c)"
   ]
  },
  {
   "cell_type": "code",
   "execution_count": 2,
   "id": "309af7e2",
   "metadata": {},
   "outputs": [
    {
     "name": "stdout",
     "output_type": "stream",
     "text": [
      "enter a number4\n",
      "3\n"
     ]
    }
   ],
   "source": [
    "# factors\n",
    "# 8 (1,2,4,8)\n",
    "\n",
    "n = int(input(\"enter a number\")) #4(1,2,4)\n",
    "c = 0\n",
    "for i in range(1,n+1): #1,2,3,4\n",
    "# for i in range(2,n): #2,3...7\n",
    "    if n%i == 0:\n",
    "        #print(i)\n",
    "        c=c+1\n",
    "        \n",
    "print(c)"
   ]
  },
  {
   "cell_type": "code",
   "execution_count": 8,
   "id": "b640db1c",
   "metadata": {},
   "outputs": [
    {
     "name": "stdout",
     "output_type": "stream",
     "text": [
      "enter a number100\n",
      "9\n"
     ]
    }
   ],
   "source": [
    "n = int(input(\"enter a number\")) #4(1,2,4)\n",
    "c = 0\n",
    "for i in range(1,n+1): #1,2,3,4\n",
    "    if n%i ==0: # 4%1==0, 4%2==0, 4%3==0, 4%4==0\n",
    "        #print(i)\n",
    "        c=c+1 #1,2\n",
    "print(c)        "
   ]
  },
  {
   "cell_type": "code",
   "execution_count": 9,
   "id": "e48a9f56",
   "metadata": {},
   "outputs": [
    {
     "name": "stdout",
     "output_type": "stream",
     "text": [
      "enter a number6\n",
      "2\n"
     ]
    }
   ],
   "source": [
    "n = int(input(\"enter a number\")) #6(1,2,3,6)\n",
    "c = 0\n",
    "for i in range(2,n): #2,3,4,5\n",
    "    if n%i ==0: # 4%1==0, 4%2==0, 4%3==0, 4%4==0\n",
    "        #print(i)\n",
    "        c=c+1 \n",
    "print(c)        "
   ]
  },
  {
   "cell_type": "code",
   "execution_count": 4,
   "id": "eb6064f4",
   "metadata": {},
   "outputs": [
    {
     "name": "stdout",
     "output_type": "stream",
     "text": [
      "enter a number6\n",
      "4\n"
     ]
    }
   ],
   "source": [
    "n = int(input(\"enter a number\")) #6(1,2,3,6)\n",
    "c = 2\n",
    "for i in range(2,n): #2,3,4,5\n",
    "    if n%i ==0:\n",
    "        #print(c)\n",
    "        c=c+1\n",
    "print(c)        "
   ]
  },
  {
   "cell_type": "code",
   "execution_count": 3,
   "id": "a7a758a8",
   "metadata": {},
   "outputs": [
    {
     "name": "stdout",
     "output_type": "stream",
     "text": [
      "2.5\n",
      "2\n",
      "1\n"
     ]
    }
   ],
   "source": [
    "print(5/2)\n",
    "print(5//2)\n",
    "print(5%2)"
   ]
  },
  {
   "cell_type": "code",
   "execution_count": null,
   "id": "a0d6ba68",
   "metadata": {},
   "outputs": [],
   "source": [
    "# prime number\n",
    "# 17 (1,2,3,...17) # 2 # 1 =0 #8 =4\n",
    "#17   (2,3,...16)    # 0"
   ]
  },
  {
   "cell_type": "code",
   "execution_count": 11,
   "id": "07e70952",
   "metadata": {},
   "outputs": [
    {
     "name": "stdout",
     "output_type": "stream",
     "text": [
      "5\n",
      "5 is prime\n"
     ]
    }
   ],
   "source": [
    "n = int(input()) #5\n",
    "c = 0\n",
    "for i in range(1,n+1): #1,2,3,4,5\n",
    "    if n%i==0:\n",
    "        c+=1\n",
    "if c == 2:\n",
    "    print(n, \"is prime\")\n"
   ]
  },
  {
   "cell_type": "code",
   "execution_count": 12,
   "id": "ef54731d",
   "metadata": {},
   "outputs": [
    {
     "name": "stdout",
     "output_type": "stream",
     "text": [
      "6\n"
     ]
    }
   ],
   "source": [
    "n = int(input()) #5\n",
    "c = 0\n",
    "for i in range(1,n+1): #1,2,3,4,5\n",
    "    if n%i==0:\n",
    "        c+=1\n",
    "if c == 2:\n",
    "    print(n, \"is prime\")\n"
   ]
  },
  {
   "cell_type": "code",
   "execution_count": 13,
   "id": "cece5782",
   "metadata": {},
   "outputs": [
    {
     "name": "stdout",
     "output_type": "stream",
     "text": [
      "6\n",
      "6 is not prime\n"
     ]
    }
   ],
   "source": [
    "n = int(input()) #5\n",
    "c = 0\n",
    "for i in range(1,n+1): #1,2,3,4,5\n",
    "    if n%i==0:\n",
    "        c+=1\n",
    "if c == 2:\n",
    "    print(n, \"is prime\")\n",
    "else:\n",
    "    print(n,\"is not prime\")\n"
   ]
  },
  {
   "cell_type": "code",
   "execution_count": 23,
   "id": "c563e9c2",
   "metadata": {},
   "outputs": [
    {
     "name": "stdout",
     "output_type": "stream",
     "text": [
      "7\n",
      "7 is prime\n"
     ]
    }
   ],
   "source": [
    "n = int(input()) #5\n",
    "c = 0 #1,2,3,4\n",
    "for i in range(1,n+1): #1,2,3,4,5\n",
    "    if n%i==0: #6%1===0 6%2==0\n",
    "        c+=1 #1,2,3\n",
    "        #print(i)\n",
    "if c == 2:\n",
    "    print(n, \"is prime\")\n",
    "else:\n",
    "    print(n, \" is not prime \")"
   ]
  },
  {
   "cell_type": "code",
   "execution_count": 8,
   "id": "fddbce0c",
   "metadata": {},
   "outputs": [
    {
     "name": "stdout",
     "output_type": "stream",
     "text": [
      "7\n",
      "1\n",
      "7\n",
      "7 is prime\n"
     ]
    }
   ],
   "source": [
    "n = int(input()) #5\n",
    "c = 0 #1,2,3,4\n",
    "for i in range(1,n+1): #1,2,3,4,5,6\n",
    "    if n%i==0: #6%1===0 6%2==0\n",
    "        c+=1 #1,2,3\n",
    "        print(i)\n",
    "if c == 2:\n",
    "    print(n, \"is prime\")\n",
    "else:\n",
    "    print(n, \" is not prime \")"
   ]
  },
  {
   "cell_type": "code",
   "execution_count": 9,
   "id": "f35196af",
   "metadata": {},
   "outputs": [
    {
     "name": "stdout",
     "output_type": "stream",
     "text": [
      "7\n",
      "7 is prime\n"
     ]
    }
   ],
   "source": [
    "n = int(input()) #5\n",
    "c = 0 #1,2,3,4\n",
    "for i in range(1,n+1): #1,2,3,4,5,6\n",
    "    if n%i==0: #6%1===0 6%2==0\n",
    "        c+=1 #1,2,3\n",
    "        #print(i)\n",
    "if c == 2:\n",
    "    print(n, \"is prime\")\n",
    "else:\n",
    "    print(n, \" is not prime \")"
   ]
  },
  {
   "cell_type": "code",
   "execution_count": 19,
   "id": "71cd0d0b",
   "metadata": {},
   "outputs": [
    {
     "name": "stdout",
     "output_type": "stream",
     "text": [
      "yes\n"
     ]
    }
   ],
   "source": [
    "c = 25\n",
    "if c==25:\n",
    "    print(\"yes\")"
   ]
  },
  {
   "cell_type": "code",
   "execution_count": 20,
   "id": "d59af2c6",
   "metadata": {},
   "outputs": [
    {
     "name": "stdout",
     "output_type": "stream",
     "text": [
      "17\n",
      "17 is prime\n"
     ]
    }
   ],
   "source": [
    "n = int(input()) #5\n",
    "#c=0\n",
    "for i in range(2,n): #2,3,4\n",
    "    if n%i ==0:\n",
    "        print(n, \"is not prime\")\n",
    "        break\n",
    "    else:\n",
    "        print(n,\"is prime\")\n",
    "        break"
   ]
  },
  {
   "cell_type": "code",
   "execution_count": 21,
   "id": "1bf1cd21",
   "metadata": {},
   "outputs": [
    {
     "name": "stdout",
     "output_type": "stream",
     "text": [
      "15\n",
      "15 is prime\n"
     ]
    }
   ],
   "source": [
    "n = int(input()) #5,6\n",
    "#c=0\n",
    "for i in range(2,n): #2,3,4,5\n",
    "    if n%i ==0:\n",
    "        print(n, \"is not prime\")\n",
    "        break\n",
    "    else:\n",
    "        print(n,\"is prime\")\n",
    "        break"
   ]
  },
  {
   "cell_type": "code",
   "execution_count": 33,
   "id": "3b5015a6",
   "metadata": {},
   "outputs": [
    {
     "name": "stdout",
     "output_type": "stream",
     "text": [
      "9\n",
      "9 is prime\n"
     ]
    }
   ],
   "source": [
    "n = int(input()) #9\n",
    "#c=0\n",
    "for i in range(2,n+1): #2,3,4,5,6,,7,8,9\n",
    "    if n==2:\n",
    "        print(\"prime\")\n",
    "    elif n%i ==0: # 9%2==0\n",
    "        print(n, \"is not prime\")\n",
    "        break\n",
    "    elif n%i!=0:\n",
    "        print(n, \"is prime\")\n",
    "        break"
   ]
  },
  {
   "cell_type": "code",
   "execution_count": 28,
   "id": "ff3e2e9d",
   "metadata": {},
   "outputs": [
    {
     "name": "stdout",
     "output_type": "stream",
     "text": [
      "3\n",
      "prime\n"
     ]
    }
   ],
   "source": [
    "n = int(input()) #5\n",
    "c=0\n",
    "for i in range(2,n+1): #2,3,4,5\n",
    "    if n%i ==0:\n",
    "        c+=1\n",
    "if c ==1:\n",
    "    print(\"prime\")\n",
    "else:\n",
    "    print(\"not prime\")"
   ]
  },
  {
   "cell_type": "code",
   "execution_count": 11,
   "id": "a553bbdb",
   "metadata": {},
   "outputs": [
    {
     "name": "stdout",
     "output_type": "stream",
     "text": [
      "no 1\n",
      "no 2\n",
      "no 3\n",
      "no 4\n",
      "no 5\n"
     ]
    }
   ],
   "source": [
    "#1,2,3,4,5\n",
    "for i in range(1,6):\n",
    "    if i==1:\n",
    "        print(\"no 1\")\n",
    "    elif i ==2:\n",
    "        print(\"no 2\")\n",
    "    elif i ==3:\n",
    "        print(\"no 3\")\n",
    "    elif i ==4:\n",
    "        print(\"no 4\")\n",
    "    else:\n",
    "        print(\"no 5\")"
   ]
  },
  {
   "cell_type": "code",
   "execution_count": null,
   "id": "ebe4e233",
   "metadata": {},
   "outputs": [],
   "source": []
  }
 ],
 "metadata": {
  "kernelspec": {
   "display_name": "Python 3",
   "language": "python",
   "name": "python3"
  },
  "language_info": {
   "codemirror_mode": {
    "name": "ipython",
    "version": 3
   },
   "file_extension": ".py",
   "mimetype": "text/x-python",
   "name": "python",
   "nbconvert_exporter": "python",
   "pygments_lexer": "ipython3",
   "version": "3.8.8"
  }
 },
 "nbformat": 4,
 "nbformat_minor": 5
}
