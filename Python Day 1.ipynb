{
 "cells": [
  {
   "cell_type": "markdown",
   "id": "340b87d2",
   "metadata": {},
   "source": [
    "# Heading1\n",
    "## Heading2\n",
    "### Heading3\n",
    "#### Heading4\n",
    "##### Heading5\n",
    "###### Heaing6"
   ]
  },
  {
   "cell_type": "markdown",
   "id": "1cb0550e",
   "metadata": {},
   "source": [
    "**Bold**\n",
    "\n",
    "*Italic*\n",
    "\n",
    "***Bold and Italic***"
   ]
  },
  {
   "cell_type": "markdown",
   "id": "6204e2ef",
   "metadata": {},
   "source": [
    "* Normal Text\n",
    "    * sublist1\n",
    "    * sublist2\n",
    "    * sublist3"
   ]
  },
  {
   "cell_type": "markdown",
   "id": "a46cb875",
   "metadata": {},
   "source": [
    "<img src = \"apssdc python.png\" width=\"300px\" height=\"150px\">"
   ]
  },
  {
   "cell_type": "markdown",
   "id": "daa6d7cc",
   "metadata": {},
   "source": [
    "### Comments in python\n",
    "* single line comment\n",
    "* multi line comment"
   ]
  },
  {
   "cell_type": "code",
   "execution_count": 1,
   "id": "2c2de27d",
   "metadata": {},
   "outputs": [
    {
     "name": "stdout",
     "output_type": "stream",
     "text": [
      "Hello World\n"
     ]
    }
   ],
   "source": [
    "# single line comment\n",
    "print (\"Hello World\")"
   ]
  },
  {
   "cell_type": "code",
   "execution_count": 2,
   "id": "06966bc2",
   "metadata": {},
   "outputs": [],
   "source": [
    "# single line comment\n",
    "#print (\"hello world\")"
   ]
  },
  {
   "cell_type": "code",
   "execution_count": 3,
   "id": "d9b0a411",
   "metadata": {},
   "outputs": [
    {
     "data": {
      "text/plain": [
       "'\\nmulti\\nline\\ncomment\\n'"
      ]
     },
     "execution_count": 3,
     "metadata": {},
     "output_type": "execute_result"
    }
   ],
   "source": [
    "# single line comment\n",
    "\n",
    "\"\"\"\n",
    "multi\n",
    "line\n",
    "comment\n",
    "\"\"\""
   ]
  },
  {
   "cell_type": "code",
   "execution_count": 4,
   "id": "e7d700e0",
   "metadata": {},
   "outputs": [
    {
     "name": "stdout",
     "output_type": "stream",
     "text": [
      "hello world\n"
     ]
    }
   ],
   "source": [
    "# single line comment\n",
    "\n",
    "\"\"\"\n",
    "multi\n",
    "line\n",
    "comment\n",
    "\"\"\"\n",
    "print(\"hello world\")"
   ]
  },
  {
   "cell_type": "code",
   "execution_count": 13,
   "id": "1a272c43",
   "metadata": {},
   "outputs": [
    {
     "name": "stdout",
     "output_type": "stream",
     "text": [
      " Lahari Lahari Lahari\n"
     ]
    }
   ],
   "source": [
    "print(3* \" Lahari\")"
   ]
  },
  {
   "cell_type": "code",
   "execution_count": 9,
   "id": "8c206960",
   "metadata": {},
   "outputs": [
    {
     "name": "stdout",
     "output_type": "stream",
     "text": [
      "Lahari\n",
      "Lahari\n",
      "Lahari\n",
      "\n"
     ]
    }
   ],
   "source": [
    "print(\"Lahari\\n\"*3)"
   ]
  },
  {
   "cell_type": "code",
   "execution_count": 16,
   "id": "7c7a72e7",
   "metadata": {},
   "outputs": [
    {
     "name": "stdout",
     "output_type": "stream",
     "text": [
      " Lahari\t Lahari\t Lahari\t\n"
     ]
    }
   ],
   "source": [
    "print(3* \" Lahari\\t\")"
   ]
  },
  {
   "cell_type": "markdown",
   "id": "a4b136fa",
   "metadata": {},
   "source": [
    "# Variables\n",
    "* A python variable is a reserved memory location to store values"
   ]
  },
  {
   "cell_type": "code",
   "execution_count": 18,
   "id": "6be207a2",
   "metadata": {
    "scrolled": true
   },
   "outputs": [
    {
     "name": "stdout",
     "output_type": "stream",
     "text": [
      "12\n",
      "12.0a123\n"
     ]
    }
   ],
   "source": [
    "a = 12\n",
    "print(a)\n",
    "print(\"12.0a123\")"
   ]
  },
  {
   "cell_type": "code",
   "execution_count": 19,
   "id": "7f40155c",
   "metadata": {},
   "outputs": [
    {
     "name": "stdout",
     "output_type": "stream",
     "text": [
      "123\n"
     ]
    }
   ],
   "source": [
    "a = 123 # single variable assignment\n",
    "print(a)"
   ]
  },
  {
   "cell_type": "code",
   "execution_count": 20,
   "id": "db2a2b83",
   "metadata": {},
   "outputs": [
    {
     "name": "stdout",
     "output_type": "stream",
     "text": [
      "apssdc\n"
     ]
    }
   ],
   "source": [
    "a = \"apssdc\"\n",
    "print(a)"
   ]
  },
  {
   "cell_type": "code",
   "execution_count": 24,
   "id": "b6855cd5",
   "metadata": {},
   "outputs": [
    {
     "name": "stdout",
     "output_type": "stream",
     "text": [
      "12 10 8\n",
      "**********\n",
      "12 \n",
      " 10 \n",
      " 8\n"
     ]
    }
   ],
   "source": [
    "x,y,z= 12,10,8 #multiple variable assignment\n",
    "print(x,y,z)\n",
    "print(\"**********\")\n",
    "print(x,'\\n',y,'\\n',z)"
   ]
  },
  {
   "cell_type": "markdown",
   "id": "cdc3f58c",
   "metadata": {},
   "source": [
    "### Python Keyword\n",
    "- keywords are the reserved words in python. we can not use a keyword as a variable name,function name or any other identifier."
   ]
  },
  {
   "cell_type": "code",
   "execution_count": 25,
   "id": "8f8b3817",
   "metadata": {},
   "outputs": [
    {
     "name": "stdout",
     "output_type": "stream",
     "text": [
      "['False', 'None', 'True', 'and', 'as', 'assert', 'async', 'await', 'break', 'class', 'continue', 'def', 'del', 'elif', 'else', 'except', 'finally', 'for', 'from', 'global', 'if', 'import', 'in', 'is', 'lambda', 'nonlocal', 'not', 'or', 'pass', 'raise', 'return', 'try', 'while', 'with', 'yield']\n"
     ]
    }
   ],
   "source": [
    "import keyword\n",
    "print(keyword.kwlist)"
   ]
  },
  {
   "cell_type": "code",
   "execution_count": 28,
   "id": "5eee6fe4",
   "metadata": {},
   "outputs": [
    {
     "name": "stdout",
     "output_type": "stream",
     "text": [
      "35\n"
     ]
    }
   ],
   "source": [
    "l = keyword.kwlist\n",
    "print(len(l))"
   ]
  },
  {
   "cell_type": "code",
   "execution_count": 1,
   "id": "1ca5e364",
   "metadata": {
    "scrolled": true
   },
   "outputs": [
    {
     "name": "stdout",
     "output_type": "stream",
     "text": [
      "['False', 'None', 'True', 'and', 'as', 'assert', 'async', 'await', 'break', 'class', 'continue', 'def', 'del', 'elif', 'else', 'except', 'finally', 'for', 'from', 'global', 'if', 'import', 'in', 'is', 'lambda', 'nonlocal', 'not', 'or', 'pass', 'raise', 'return', 'try', 'while', 'with', 'yield']\n",
      "35\n"
     ]
    }
   ],
   "source": [
    "import keyword\n",
    "print(keyword.kwlist)\n",
    "l = keyword.kwlist\n",
    "print(len(l))"
   ]
  }
 ],
 "metadata": {
  "kernelspec": {
   "display_name": "Python 3",
   "language": "python",
   "name": "python3"
  },
  "language_info": {
   "codemirror_mode": {
    "name": "ipython",
    "version": 3
   },
   "file_extension": ".py",
   "mimetype": "text/x-python",
   "name": "python",
   "nbconvert_exporter": "python",
   "pygments_lexer": "ipython3",
   "version": "3.8.8"
  }
 },
 "nbformat": 4,
 "nbformat_minor": 5
}
