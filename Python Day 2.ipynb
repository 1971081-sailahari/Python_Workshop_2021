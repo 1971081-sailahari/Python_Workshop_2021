{
 "cells": [
  {
   "cell_type": "markdown",
   "id": "476bbc2c",
   "metadata": {},
   "source": [
    "### Data Types and Conversions\n",
    "* int\n",
    "* float\n",
    "* string"
   ]
  },
  {
   "cell_type": "code",
   "execution_count": 3,
   "id": "4cf74b11",
   "metadata": {},
   "outputs": [
    {
     "name": "stdout",
     "output_type": "stream",
     "text": [
      "n1 =  13\n"
     ]
    },
    {
     "data": {
      "text/plain": [
       "int"
      ]
     },
     "execution_count": 3,
     "metadata": {},
     "output_type": "execute_result"
    }
   ],
   "source": [
    "n1 = 13\n",
    "print(\"n1 = \",n1)\n",
    "type(n1)"
   ]
  },
  {
   "cell_type": "code",
   "execution_count": 4,
   "id": "f771118c",
   "metadata": {},
   "outputs": [
    {
     "name": "stdout",
     "output_type": "stream",
     "text": [
      "n2 =  13.56\n"
     ]
    },
    {
     "data": {
      "text/plain": [
       "float"
      ]
     },
     "execution_count": 4,
     "metadata": {},
     "output_type": "execute_result"
    }
   ],
   "source": [
    "n2 = 13.56\n",
    "print(\"n2 = \",n2)\n",
    "type(n2)"
   ]
  },
  {
   "cell_type": "code",
   "execution_count": 5,
   "id": "fc7eb2ef",
   "metadata": {
    "scrolled": true
   },
   "outputs": [
    {
     "name": "stdout",
     "output_type": "stream",
     "text": [
      "apssdc\n"
     ]
    },
    {
     "data": {
      "text/plain": [
       "str"
      ]
     },
     "execution_count": 5,
     "metadata": {},
     "output_type": "execute_result"
    }
   ],
   "source": [
    "s = \"apssdc\"\n",
    "print(s)\n",
    "type(s)"
   ]
  },
  {
   "cell_type": "code",
   "execution_count": 7,
   "id": "9ae27847",
   "metadata": {},
   "outputs": [
    {
     "name": "stdout",
     "output_type": "stream",
     "text": [
      "13\n",
      "14\n"
     ]
    },
    {
     "data": {
      "text/plain": [
       "int"
      ]
     },
     "execution_count": 7,
     "metadata": {},
     "output_type": "execute_result"
    }
   ],
   "source": [
    "n = 13\n",
    "m = 14\n",
    "print(n)\n",
    "print(m)\n",
    "type(n)\n",
    "type(m)"
   ]
  },
  {
   "cell_type": "code",
   "execution_count": 8,
   "id": "d9d7d0a3",
   "metadata": {},
   "outputs": [
    {
     "name": "stdout",
     "output_type": "stream",
     "text": [
      "n =  13\n",
      "m =  14\n"
     ]
    },
    {
     "data": {
      "text/plain": [
       "int"
      ]
     },
     "execution_count": 8,
     "metadata": {},
     "output_type": "execute_result"
    }
   ],
   "source": [
    "n = 13\n",
    "m = 14\n",
    "print(\"n = \",n)\n",
    "print(\"m = \",m)\n",
    "type(n)\n",
    "type(m)"
   ]
  },
  {
   "cell_type": "code",
   "execution_count": 9,
   "id": "3dfa3d96",
   "metadata": {},
   "outputs": [
    {
     "name": "stdout",
     "output_type": "stream",
     "text": [
      "<class 'int'>\n",
      "<class 'int'>\n"
     ]
    }
   ],
   "source": [
    "n = 13\n",
    "m = 14\n",
    "print(type(n))\n",
    "print(type(m))"
   ]
  },
  {
   "cell_type": "code",
   "execution_count": 10,
   "id": "f025b363",
   "metadata": {},
   "outputs": [
    {
     "name": "stdout",
     "output_type": "stream",
     "text": [
      "<class 'int'>\n",
      "<class 'str'>\n"
     ]
    }
   ],
   "source": [
    "n = 13\n",
    "print(type(n))\n",
    "print(type(str(n)))"
   ]
  },
  {
   "cell_type": "code",
   "execution_count": 11,
   "id": "4ee53ce8",
   "metadata": {},
   "outputs": [
    {
     "name": "stdout",
     "output_type": "stream",
     "text": [
      "<class 'str'>\n"
     ]
    }
   ],
   "source": [
    "n1 = 2\n",
    "s = str(n1)\n",
    "print(type(s))"
   ]
  },
  {
   "cell_type": "code",
   "execution_count": 12,
   "id": "dc7df80f",
   "metadata": {},
   "outputs": [
    {
     "name": "stdout",
     "output_type": "stream",
     "text": [
      "1210\n"
     ]
    }
   ],
   "source": [
    "num1 = \"12\"\n",
    "num2 = \"10\"\n",
    "print(num1+num2)"
   ]
  },
  {
   "cell_type": "code",
   "execution_count": 14,
   "id": "be1c2d82",
   "metadata": {},
   "outputs": [
    {
     "name": "stdout",
     "output_type": "stream",
     "text": [
      "SAILAHARI\n"
     ]
    }
   ],
   "source": [
    "s1 = \"SAI\"\n",
    "s2 = \"LAHARI\"\n",
    "print(s1+s2)"
   ]
  },
  {
   "cell_type": "code",
   "execution_count": 15,
   "id": "1a8363b4",
   "metadata": {},
   "outputs": [
    {
     "name": "stdout",
     "output_type": "stream",
     "text": [
      "3.0\n"
     ]
    }
   ],
   "source": [
    "n1 = 1.5\n",
    "n2 = 1.5\n",
    "print(n1+n2)"
   ]
  },
  {
   "cell_type": "markdown",
   "id": "d6f61e98",
   "metadata": {},
   "source": [
    "### Indentataion"
   ]
  },
  {
   "cell_type": "code",
   "execution_count": 18,
   "id": "a80726ea",
   "metadata": {},
   "outputs": [
    {
     "name": "stdout",
     "output_type": "stream",
     "text": [
      "n1 is greater than n2\n"
     ]
    }
   ],
   "source": [
    "n1,n2 = 13,12\n",
    "if(n1>n2):\n",
    "    print(\"n1 is greater than n2\")"
   ]
  },
  {
   "cell_type": "code",
   "execution_count": 24,
   "id": "bbb7d36c",
   "metadata": {},
   "outputs": [
    {
     "name": "stdout",
     "output_type": "stream",
     "text": [
      "wrong statement\n"
     ]
    }
   ],
   "source": [
    "n1,n2 = 13,12\n",
    "if(n1<n2): #F\n",
    "    print(\"n1 is greater than n2\")\n",
    "else:\n",
    "    print(\"wrong statement\")"
   ]
  },
  {
   "cell_type": "markdown",
   "id": "f8a2a878",
   "metadata": {},
   "source": [
    "### Reading input dynamically"
   ]
  },
  {
   "cell_type": "code",
   "execution_count": 1,
   "id": "d9f8fc0c",
   "metadata": {},
   "outputs": [
    {
     "name": "stdout",
     "output_type": "stream",
     "text": [
      "12\n",
      "12\n",
      "<class 'str'>\n"
     ]
    }
   ],
   "source": [
    "x = input()\n",
    "print(x)\n",
    "print(type(x))"
   ]
  },
  {
   "cell_type": "code",
   "execution_count": 1,
   "id": "b40ccb69",
   "metadata": {},
   "outputs": [
    {
     "name": "stdout",
     "output_type": "stream",
     "text": [
      "<class 'int'>\n",
      "<class 'float'>\n",
      "123\n",
      "123.0\n"
     ]
    }
   ],
   "source": [
    "a = 123\n",
    "print(type(a))\n",
    "f = float(a)\n",
    "print(type(f))\n",
    "print(a)\n",
    "print(f)"
   ]
  },
  {
   "cell_type": "code",
   "execution_count": 1,
   "id": "4641efeb",
   "metadata": {},
   "outputs": [
    {
     "name": "stdout",
     "output_type": "stream",
     "text": [
      "enter a value:123\n",
      "123\n",
      "<class 'int'>\n"
     ]
    }
   ],
   "source": [
    "n = int(input(\"enter a value:\"))\n",
    "print(n)\n",
    "print(type(n))"
   ]
  },
  {
   "cell_type": "code",
   "execution_count": 2,
   "id": "3edee4cb",
   "metadata": {},
   "outputs": [
    {
     "name": "stdout",
     "output_type": "stream",
     "text": [
      "enter a value:15.8\n",
      "15.8\n",
      "<class 'float'>\n"
     ]
    }
   ],
   "source": [
    "f = float(input(\"enter a value:\"))\n",
    "print(f)\n",
    "print(type(f))"
   ]
  },
  {
   "cell_type": "markdown",
   "id": "42650f3e",
   "metadata": {},
   "source": [
    "### Operators\n",
    "1. Arithmetic opertors\n",
    "2. Assignment operators\n",
    "3. Comparison operators\n",
    "4. Logical operators\n",
    "5. Identity operators\n",
    "6. Membership operators\n",
    "7. Bitwise operators"
   ]
  },
  {
   "cell_type": "markdown",
   "id": "8d77a5b6",
   "metadata": {},
   "source": [
    "#### 1. Arithmetic operators\n",
    "- +,-,*,/,%,//,**"
   ]
  },
  {
   "cell_type": "code",
   "execution_count": 4,
   "id": "b46aaa24",
   "metadata": {},
   "outputs": [
    {
     "name": "stdout",
     "output_type": "stream",
     "text": [
      "a+b = 8\n",
      "a-b = 2\n",
      "a*b = 15\n",
      "a/b = 1.6666666666666667\n",
      "a%b = 2\n",
      "a//b = 1\n",
      "a**b = 125\n"
     ]
    }
   ],
   "source": [
    "a,b =5,3\n",
    "print(\"a+b =\",5+3)\n",
    "print(\"a-b =\",5-3)\n",
    "print(\"a*b =\",5*3)\n",
    "print(\"a/b =\",5/3)\n",
    "print(\"a%b =\",5%3)\n",
    "print(\"a//b =\",5//3)\n",
    "print(\"a**b =\",5**3)"
   ]
  },
  {
   "cell_type": "markdown",
   "id": "16d85a4b",
   "metadata": {},
   "source": [
    "#### 2. Assignment operator\n",
    "- =,+=,-=,*= etc.,"
   ]
  },
  {
   "cell_type": "code",
   "execution_count": 5,
   "id": "392c8472",
   "metadata": {},
   "outputs": [
    {
     "name": "stdout",
     "output_type": "stream",
     "text": [
      "12\n"
     ]
    }
   ],
   "source": [
    "a = 12\n",
    "print(a)"
   ]
  },
  {
   "cell_type": "code",
   "execution_count": 6,
   "id": "e43e37aa",
   "metadata": {},
   "outputs": [
    {
     "name": "stdout",
     "output_type": "stream",
     "text": [
      "13\n"
     ]
    }
   ],
   "source": [
    "a += 1 # a = a+1\n",
    "print(a)"
   ]
  },
  {
   "cell_type": "code",
   "execution_count": 7,
   "id": "8d9574c2",
   "metadata": {},
   "outputs": [
    {
     "data": {
      "text/plain": [
       "13"
      ]
     },
     "execution_count": 7,
     "metadata": {},
     "output_type": "execute_result"
    }
   ],
   "source": [
    "a"
   ]
  },
  {
   "cell_type": "code",
   "execution_count": 8,
   "id": "34e7a358",
   "metadata": {},
   "outputs": [
    {
     "name": "stdout",
     "output_type": "stream",
     "text": [
      "11\n"
     ]
    }
   ],
   "source": [
    "a -= 2 # a=a-2\n",
    "print(a)"
   ]
  },
  {
   "cell_type": "code",
   "execution_count": 9,
   "id": "dfcf0f19",
   "metadata": {},
   "outputs": [
    {
     "data": {
      "text/plain": [
       "11"
      ]
     },
     "execution_count": 9,
     "metadata": {},
     "output_type": "execute_result"
    }
   ],
   "source": [
    "a"
   ]
  },
  {
   "cell_type": "code",
   "execution_count": 10,
   "id": "d41223ac",
   "metadata": {},
   "outputs": [
    {
     "name": "stdout",
     "output_type": "stream",
     "text": [
      "33\n"
     ]
    }
   ],
   "source": [
    "a *= 3 # a=a*3\n",
    "print(a)"
   ]
  },
  {
   "cell_type": "markdown",
   "id": "4113b942",
   "metadata": {},
   "source": [
    "#### 3. Comparision operator\n",
    "- ==,>,<,>=,<=,!="
   ]
  },
  {
   "cell_type": "code",
   "execution_count": 14,
   "id": "7e729950",
   "metadata": {},
   "outputs": [
    {
     "name": "stdout",
     "output_type": "stream",
     "text": [
      "False\n",
      "True\n",
      "False\n",
      "True\n",
      "False\n",
      "True\n"
     ]
    }
   ],
   "source": [
    "n1,n2 =5,3\n",
    "print(n1==n2)\n",
    "print(n1>n2)\n",
    "print(n1<n2)\n",
    "print(n1>=n2)\n",
    "print(n1<=n2)\n",
    "print(n1!=n2)"
   ]
  },
  {
   "cell_type": "markdown",
   "id": "7f842671",
   "metadata": {},
   "source": [
    "#### 4. Logical operators\n",
    "- and, or, not"
   ]
  },
  {
   "cell_type": "code",
   "execution_count": 19,
   "id": "929df44c",
   "metadata": {},
   "outputs": [
    {
     "name": "stdout",
     "output_type": "stream",
     "text": [
      "True\n",
      "True\n"
     ]
    }
   ],
   "source": [
    "a = 5\n",
    "print(a<6 and a>2)\n",
    "print(a<6 or a>2)"
   ]
  },
  {
   "cell_type": "code",
   "execution_count": 20,
   "id": "2b72c57c",
   "metadata": {},
   "outputs": [
    {
     "name": "stdout",
     "output_type": "stream",
     "text": [
      "True\n",
      "False\n"
     ]
    }
   ],
   "source": [
    "a = 5\n",
    "print(a<6 and a>2)\n",
    "res = a<6 or a>2\n",
    "print(not(res))"
   ]
  },
  {
   "cell_type": "code",
   "execution_count": 21,
   "id": "8fd6117a",
   "metadata": {},
   "outputs": [
    {
     "name": "stdout",
     "output_type": "stream",
     "text": [
      "False\n"
     ]
    }
   ],
   "source": [
    "res = a<6 or a>2\n",
    "print(not(res))"
   ]
  },
  {
   "cell_type": "markdown",
   "id": "62d092db",
   "metadata": {},
   "source": [
    "#### 5. Identity operators\n",
    "- is, is not"
   ]
  },
  {
   "cell_type": "code",
   "execution_count": 23,
   "id": "3cdc1a62",
   "metadata": {},
   "outputs": [
    {
     "name": "stdout",
     "output_type": "stream",
     "text": [
      "False\n",
      "True\n"
     ]
    }
   ],
   "source": [
    "x,y = 5,3\n",
    "print(x is y)\n",
    "print(x is not y)"
   ]
  },
  {
   "cell_type": "code",
   "execution_count": 24,
   "id": "87af5146",
   "metadata": {},
   "outputs": [
    {
     "name": "stdout",
     "output_type": "stream",
     "text": [
      "True\n",
      "False\n"
     ]
    }
   ],
   "source": [
    "a,b = 6,6\n",
    "print(a is b)\n",
    "print(a is not b)"
   ]
  },
  {
   "cell_type": "markdown",
   "id": "c9182c6f",
   "metadata": {},
   "source": [
    "#### 6. Membership operators\n",
    "- in, not in"
   ]
  },
  {
   "cell_type": "code",
   "execution_count": 26,
   "id": "5501620f",
   "metadata": {},
   "outputs": [
    {
     "name": "stdout",
     "output_type": "stream",
     "text": [
      "True\n",
      "False\n",
      "True\n"
     ]
    }
   ],
   "source": [
    "fruits = [\"apple\",\"guava\",\"mango\"]\n",
    "print('apple' in fruits)\n",
    "print('grape'in fruits)\n",
    "print('banana' not in fruits)"
   ]
  },
  {
   "cell_type": "markdown",
   "id": "1da58e11",
   "metadata": {},
   "source": [
    "#### Bitwise operator\n",
    "- &,|,^,>>,<<,~"
   ]
  },
  {
   "cell_type": "code",
   "execution_count": 1,
   "id": "816c4e35",
   "metadata": {},
   "outputs": [
    {
     "name": "stdout",
     "output_type": "stream",
     "text": [
      "enter 1st value:5\n",
      "enter 2nd value:3\n"
     ]
    },
    {
     "data": {
      "text/plain": [
       "1"
      ]
     },
     "execution_count": 1,
     "metadata": {},
     "output_type": "execute_result"
    }
   ],
   "source": [
    "a = int(input(\"enter 1st value:\"))\n",
    "b = int(input(\"enter 2nd value:\"))\n",
    "a & b"
   ]
  },
  {
   "cell_type": "code",
   "execution_count": 31,
   "id": "92d7d5b8",
   "metadata": {},
   "outputs": [
    {
     "data": {
      "text/plain": [
       "1"
      ]
     },
     "execution_count": 31,
     "metadata": {},
     "output_type": "execute_result"
    }
   ],
   "source": [
    "5 & 3"
   ]
  },
  {
   "cell_type": "code",
   "execution_count": 32,
   "id": "259a8406",
   "metadata": {},
   "outputs": [
    {
     "data": {
      "text/plain": [
       "7"
      ]
     },
     "execution_count": 32,
     "metadata": {},
     "output_type": "execute_result"
    }
   ],
   "source": [
    "5 | 3"
   ]
  },
  {
   "cell_type": "code",
   "execution_count": null,
   "id": "678077ab",
   "metadata": {},
   "outputs": [],
   "source": []
  }
 ],
 "metadata": {
  "kernelspec": {
   "display_name": "Python 3",
   "language": "python",
   "name": "python3"
  },
  "language_info": {
   "codemirror_mode": {
    "name": "ipython",
    "version": 3
   },
   "file_extension": ".py",
   "mimetype": "text/x-python",
   "name": "python",
   "nbconvert_exporter": "python",
   "pygments_lexer": "ipython3",
   "version": "3.8.8"
  }
 },
 "nbformat": 4,
 "nbformat_minor": 5
}
