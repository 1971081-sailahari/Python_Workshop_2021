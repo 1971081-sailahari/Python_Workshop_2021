{
 "cells": [
  {
   "cell_type": "markdown",
   "id": "a030ad27",
   "metadata": {},
   "source": [
    "### What is Data Structure?\n",
    "- Data Structures are used to store a collection of reelated data.\n",
    "- We have four built-in data structures in python-list,tuple,dictionary and set."
   ]
  },
  {
   "cell_type": "markdown",
   "id": "98ad2775",
   "metadata": {},
   "source": [
    "### List\n",
    "- It is a collection of different data types.\n",
    "- It is mutable(changeable).\n",
    "- Allow duplicate members.\n",
    "- In python lists are written with square brackets."
   ]
  },
  {
   "cell_type": "code",
   "execution_count": 1,
   "id": "49811467",
   "metadata": {},
   "outputs": [
    {
     "name": "stdout",
     "output_type": "stream",
     "text": [
      "['SPMVV', 12, 23, 30.8, 'Apssdc', 20]\n"
     ]
    }
   ],
   "source": [
    "lst = ['SPMVV',12,23,30.8,'Apssdc',20]\n",
    "print(lst)"
   ]
  },
  {
   "cell_type": "code",
   "execution_count": 2,
   "id": "0f18d29a",
   "metadata": {},
   "outputs": [
    {
     "data": {
      "text/plain": [
       "'SPMVV'"
      ]
     },
     "execution_count": 2,
     "metadata": {},
     "output_type": "execute_result"
    }
   ],
   "source": [
    "# indexing/slicing\n",
    "lst[0]"
   ]
  },
  {
   "cell_type": "code",
   "execution_count": 3,
   "id": "35dd0174",
   "metadata": {},
   "outputs": [
    {
     "name": "stdout",
     "output_type": "stream",
     "text": [
      "6\n"
     ]
    }
   ],
   "source": [
    "print(len(lst))"
   ]
  },
  {
   "cell_type": "code",
   "execution_count": 4,
   "id": "be43793b",
   "metadata": {},
   "outputs": [
    {
     "name": "stdout",
     "output_type": "stream",
     "text": [
      "['SPMVV', 12, 23, 30.8, 'Apssdc', 20]\n"
     ]
    }
   ],
   "source": [
    "print(lst[0:6]) # 0 to 5"
   ]
  },
  {
   "cell_type": "code",
   "execution_count": 7,
   "id": "5a7f9ee4",
   "metadata": {},
   "outputs": [
    {
     "name": "stdout",
     "output_type": "stream",
     "text": [
      "['SPMVV', 23, 'Apssdc']\n"
     ]
    }
   ],
   "source": [
    "print(lst[0:6:2])"
   ]
  },
  {
   "cell_type": "code",
   "execution_count": 8,
   "id": "c05a0129",
   "metadata": {},
   "outputs": [
    {
     "name": "stdout",
     "output_type": "stream",
     "text": [
      "[12, 23]\n"
     ]
    }
   ],
   "source": [
    "print(lst[1:3])"
   ]
  },
  {
   "cell_type": "code",
   "execution_count": 2,
   "id": "653cfe65",
   "metadata": {},
   "outputs": [
    {
     "data": {
      "text/plain": [
       "[12, 30.8, 20]"
      ]
     },
     "execution_count": 2,
     "metadata": {},
     "output_type": "execute_result"
    }
   ],
   "source": [
    "# [12, 30.8, 20]\n",
    "lst = ['SPMVV',12,23,30.8,'Apssdc',20]\n",
    "lst[1:6:2]"
   ]
  },
  {
   "cell_type": "code",
   "execution_count": 11,
   "id": "a987e394",
   "metadata": {},
   "outputs": [
    {
     "name": "stdout",
     "output_type": "stream",
     "text": [
      "['CSE', 5.8, 14, 18, [13, 15.3, 'ECE'], 'MECH', 9.0]\n"
     ]
    }
   ],
   "source": [
    "lst2 =['CSE',5.8,14,18,[13,15.3,'ECE'],'MECH',9.0]\n",
    "print(lst2)"
   ]
  },
  {
   "cell_type": "code",
   "execution_count": 12,
   "id": "ff657157",
   "metadata": {},
   "outputs": [
    {
     "name": "stdout",
     "output_type": "stream",
     "text": [
      "7\n"
     ]
    }
   ],
   "source": [
    "print(len(lst2))"
   ]
  },
  {
   "cell_type": "code",
   "execution_count": 13,
   "id": "fcb49f6f",
   "metadata": {},
   "outputs": [
    {
     "data": {
      "text/plain": [
       "[13, 15.3, 'ECE']"
      ]
     },
     "execution_count": 13,
     "metadata": {},
     "output_type": "execute_result"
    }
   ],
   "source": [
    "lst2[4]"
   ]
  },
  {
   "cell_type": "code",
   "execution_count": 14,
   "id": "86ada10a",
   "metadata": {},
   "outputs": [
    {
     "data": {
      "text/plain": [
       "15.3"
      ]
     },
     "execution_count": 14,
     "metadata": {},
     "output_type": "execute_result"
    }
   ],
   "source": [
    "lst2[4][1]"
   ]
  },
  {
   "cell_type": "code",
   "execution_count": 15,
   "id": "dd0760a5",
   "metadata": {},
   "outputs": [],
   "source": [
    "lst = [1,2,[3,4,5,[6,7,8,9],10,'cse'],9.8,13]"
   ]
  },
  {
   "cell_type": "code",
   "execution_count": 16,
   "id": "c8a9e91d",
   "metadata": {},
   "outputs": [
    {
     "name": "stdout",
     "output_type": "stream",
     "text": [
      "5\n"
     ]
    }
   ],
   "source": [
    "print(len(lst))"
   ]
  },
  {
   "cell_type": "code",
   "execution_count": 17,
   "id": "10227f42",
   "metadata": {},
   "outputs": [
    {
     "data": {
      "text/plain": [
       "[[3, 4, 5, [6, 7, 8, 9], 10, 'cse'], 9.8, 13]"
      ]
     },
     "execution_count": 17,
     "metadata": {},
     "output_type": "execute_result"
    }
   ],
   "source": [
    "lst[2:5]"
   ]
  },
  {
   "cell_type": "code",
   "execution_count": 18,
   "id": "0e13c809",
   "metadata": {},
   "outputs": [
    {
     "data": {
      "text/plain": [
       "[3, 4, 5, [6, 7, 8, 9], 10, 'cse']"
      ]
     },
     "execution_count": 18,
     "metadata": {},
     "output_type": "execute_result"
    }
   ],
   "source": [
    "lst[2]"
   ]
  },
  {
   "cell_type": "code",
   "execution_count": 19,
   "id": "5310808a",
   "metadata": {},
   "outputs": [
    {
     "data": {
      "text/plain": [
       "[6, 7, 8, 9]"
      ]
     },
     "execution_count": 19,
     "metadata": {},
     "output_type": "execute_result"
    }
   ],
   "source": [
    "lst[2][3]"
   ]
  },
  {
   "cell_type": "code",
   "execution_count": 20,
   "id": "e68851cf",
   "metadata": {},
   "outputs": [
    {
     "data": {
      "text/plain": [
       "9"
      ]
     },
     "execution_count": 20,
     "metadata": {},
     "output_type": "execute_result"
    }
   ],
   "source": [
    "lst[2][3][3]"
   ]
  },
  {
   "cell_type": "code",
   "execution_count": 24,
   "id": "3b57c1d5",
   "metadata": {},
   "outputs": [
    {
     "data": {
      "text/plain": [
       "[20, 'Apssdc', 30.8, 23, 12, 'SPMVV']"
      ]
     },
     "execution_count": 24,
     "metadata": {},
     "output_type": "execute_result"
    }
   ],
   "source": [
    "lst = ['SPMVV',12,23,30.8,'Apssdc',20]\n",
    "lst[-1::-1]"
   ]
  },
  {
   "cell_type": "code",
   "execution_count": 25,
   "id": "236533a5",
   "metadata": {},
   "outputs": [
    {
     "data": {
      "text/plain": [
       "[20, 'Apssdc', 30.8, 23, 12, 'SPMVV']"
      ]
     },
     "execution_count": 25,
     "metadata": {},
     "output_type": "execute_result"
    }
   ],
   "source": [
    "lst = ['SPMVV',12,23,30.8,'Apssdc',20]\n",
    "lst[-1:-7:-1]"
   ]
  },
  {
   "cell_type": "code",
   "execution_count": 26,
   "id": "e99a469b",
   "metadata": {},
   "outputs": [
    {
     "data": {
      "text/plain": [
       "[30.8, 23, 12]"
      ]
     },
     "execution_count": 26,
     "metadata": {},
     "output_type": "execute_result"
    }
   ],
   "source": [
    "lst[-3:-6:-1]"
   ]
  },
  {
   "cell_type": "code",
   "execution_count": 27,
   "id": "123ada30",
   "metadata": {},
   "outputs": [
    {
     "data": {
      "text/plain": [
       "['CSE', 5.8, 14, 18, [13, 15.3, 'ECE'], 'MECH', 9.0]"
      ]
     },
     "execution_count": 27,
     "metadata": {},
     "output_type": "execute_result"
    }
   ],
   "source": [
    "lst2 =['CSE',5.8,14,18,[13,15.3,'ECE'],'MECH',9.0]\n",
    "lst2"
   ]
  },
  {
   "cell_type": "code",
   "execution_count": 28,
   "id": "2a173187",
   "metadata": {},
   "outputs": [
    {
     "name": "stdout",
     "output_type": "stream",
     "text": [
      "[9.0, 'MECH', [13, 15.3, 'ECE'], 18, 14, 5.8, 'CSE']\n"
     ]
    }
   ],
   "source": [
    "print(lst2[-1:-8:-1])"
   ]
  },
  {
   "cell_type": "code",
   "execution_count": 29,
   "id": "3f5463cf",
   "metadata": {},
   "outputs": [
    {
     "name": "stdout",
     "output_type": "stream",
     "text": [
      "[13, 15.3, 'ECE']\n"
     ]
    }
   ],
   "source": [
    "# ['ece',15.3,13]\n",
    "print(lst2[-3])"
   ]
  },
  {
   "cell_type": "code",
   "execution_count": 31,
   "id": "e0e22bce",
   "metadata": {},
   "outputs": [
    {
     "name": "stdout",
     "output_type": "stream",
     "text": [
      "['ECE', 15.3, 13]\n"
     ]
    }
   ],
   "source": [
    "# ['ece',15.3,13]\n",
    "print(lst2[-3][-1::-1])"
   ]
  },
  {
   "cell_type": "code",
   "execution_count": 23,
   "id": "bfdb27cc",
   "metadata": {},
   "outputs": [
    {
     "name": "stdout",
     "output_type": "stream",
     "text": [
      "['__add__', '__class__', '__contains__', '__delattr__', '__delitem__', '__dir__', '__doc__', '__eq__', '__format__', '__ge__', '__getattribute__', '__getitem__', '__gt__', '__hash__', '__iadd__', '__imul__', '__init__', '__init_subclass__', '__iter__', '__le__', '__len__', '__lt__', '__mul__', '__ne__', '__new__', '__reduce__', '__reduce_ex__', '__repr__', '__reversed__', '__rmul__', '__setattr__', '__setitem__', '__sizeof__', '__str__', '__subclasshook__', 'append', 'clear', 'copy', 'count', 'extend', 'index', 'insert', 'pop', 'remove', 'reverse', 'sort']\n"
     ]
    }
   ],
   "source": [
    "print(dir(list))"
   ]
  },
  {
   "cell_type": "code",
   "execution_count": 7,
   "id": "12e3531e",
   "metadata": {},
   "outputs": [],
   "source": [
    "# list is mutable\n",
    "lst = [2,7,'cse',9.0,'civil',8.5,13,17]\n",
    "lst[4] ='mech'"
   ]
  },
  {
   "cell_type": "code",
   "execution_count": 21,
   "id": "0cceb18b",
   "metadata": {},
   "outputs": [
    {
     "data": {
      "text/plain": [
       "'civil'"
      ]
     },
     "execution_count": 21,
     "metadata": {},
     "output_type": "execute_result"
    }
   ],
   "source": [
    "lst = [2,7,'cse',9.0,'civil',8.5,13,17]\n",
    "lst[4]"
   ]
  },
  {
   "cell_type": "code",
   "execution_count": 8,
   "id": "c82a0eb6",
   "metadata": {},
   "outputs": [
    {
     "name": "stdout",
     "output_type": "stream",
     "text": [
      "[2, 7, 'cse', 9.0, 'mech', 8.5, 13, 17]\n"
     ]
    }
   ],
   "source": [
    "print(lst)"
   ]
  },
  {
   "cell_type": "code",
   "execution_count": 9,
   "id": "7d374259",
   "metadata": {},
   "outputs": [
    {
     "name": "stdout",
     "output_type": "stream",
     "text": [
      "[2, 7, 'cse', 9.0, 'mech', 8.5, 13, 17, 'civil']\n"
     ]
    }
   ],
   "source": [
    "# append()\n",
    "lst.append('civil')\n",
    "print(lst)"
   ]
  },
  {
   "cell_type": "code",
   "execution_count": 10,
   "id": "9f143d18",
   "metadata": {},
   "outputs": [
    {
     "name": "stdout",
     "output_type": "stream",
     "text": [
      "List2 =  [2, 7, 'cse', 9.0, 'mech', 8.5, 13, 17, 'civil']\n",
      "List1 =  [2, 7, 'cse', 9.0, 'mech', 8.5, 13, 17, 'civil']\n"
     ]
    }
   ],
   "source": [
    "# copy()\n",
    "lst2 = lst.copy()\n",
    "print(\"List2 = \",lst2)\n",
    "print(\"List1 = \",lst)"
   ]
  },
  {
   "cell_type": "code",
   "execution_count": 11,
   "id": "d38d9298",
   "metadata": {},
   "outputs": [
    {
     "name": "stdout",
     "output_type": "stream",
     "text": [
      "[2, 7, 'cse', 9.0, 'mech', 8.5, 13, 17, 'civil', 'cse']\n"
     ]
    }
   ],
   "source": [
    "lst.append('cse')\n",
    "print(lst)"
   ]
  },
  {
   "cell_type": "code",
   "execution_count": 12,
   "id": "b33f3281",
   "metadata": {},
   "outputs": [
    {
     "data": {
      "text/plain": [
       "2"
      ]
     },
     "execution_count": 12,
     "metadata": {},
     "output_type": "execute_result"
    }
   ],
   "source": [
    "# count()\n",
    "lst.count(\"cse\")"
   ]
  },
  {
   "cell_type": "code",
   "execution_count": 13,
   "id": "2c8ac397",
   "metadata": {},
   "outputs": [
    {
     "data": {
      "text/plain": [
       "1"
      ]
     },
     "execution_count": 13,
     "metadata": {},
     "output_type": "execute_result"
    }
   ],
   "source": [
    "lst.count(7)"
   ]
  },
  {
   "cell_type": "code",
   "execution_count": 14,
   "id": "cc458ab2",
   "metadata": {},
   "outputs": [
    {
     "data": {
      "text/plain": [
       "0"
      ]
     },
     "execution_count": 14,
     "metadata": {},
     "output_type": "execute_result"
    }
   ],
   "source": [
    "lst.count('Apssdc')"
   ]
  },
  {
   "cell_type": "code",
   "execution_count": 15,
   "id": "f78ce0cf",
   "metadata": {},
   "outputs": [
    {
     "name": "stdout",
     "output_type": "stream",
     "text": [
      "[2, 7, 'cse', 9.0, 'mech', 8.5, 13, 17, 'civil', 'cse', 'a', 'b']\n"
     ]
    }
   ],
   "source": [
    "#extend()\n",
    "lst.extend(['a','b'])\n",
    "print(lst)"
   ]
  },
  {
   "cell_type": "code",
   "execution_count": 16,
   "id": "111baf71",
   "metadata": {},
   "outputs": [
    {
     "name": "stdout",
     "output_type": "stream",
     "text": [
      "[2, 7, 'cse', 9.0, 'mech', 8.5, 13, 17, 'civil', 'cse', 'a', 'b', [1, 2, 3]]\n"
     ]
    }
   ],
   "source": [
    "lst.append([1,2,3])\n",
    "print(lst)"
   ]
  },
  {
   "cell_type": "code",
   "execution_count": 18,
   "id": "b3025bef",
   "metadata": {},
   "outputs": [
    {
     "data": {
      "text/plain": [
       "8"
      ]
     },
     "execution_count": 18,
     "metadata": {},
     "output_type": "execute_result"
    }
   ],
   "source": [
    "# index()\n",
    "lst.index('civil')"
   ]
  },
  {
   "cell_type": "code",
   "execution_count": 19,
   "id": "8c12bca2",
   "metadata": {},
   "outputs": [
    {
     "data": {
      "text/plain": [
       "2"
      ]
     },
     "execution_count": 19,
     "metadata": {},
     "output_type": "execute_result"
    }
   ],
   "source": [
    "lst.index('cse')"
   ]
  },
  {
   "cell_type": "code",
   "execution_count": 20,
   "id": "9bbab63a",
   "metadata": {},
   "outputs": [
    {
     "name": "stdout",
     "output_type": "stream",
     "text": [
      "0\n",
      "1\n",
      "2\n",
      "3\n",
      "4\n",
      "5\n",
      "6\n",
      "7\n",
      "8\n",
      "9\n",
      "10\n",
      "11\n",
      "12\n"
     ]
    }
   ],
   "source": [
    "for i in range(len(lst)):\n",
    "    print(i)"
   ]
  },
  {
   "cell_type": "code",
   "execution_count": 21,
   "id": "304cfbc8",
   "metadata": {},
   "outputs": [
    {
     "name": "stdout",
     "output_type": "stream",
     "text": [
      "0 = 2\n",
      "1 = 7\n",
      "2 = cse\n",
      "3 = 9.0\n",
      "4 = mech\n",
      "5 = 8.5\n",
      "6 = 13\n",
      "7 = 17\n",
      "8 = civil\n",
      "9 = cse\n",
      "10 = a\n",
      "11 = b\n",
      "12 = [1, 2, 3]\n"
     ]
    }
   ],
   "source": [
    "for i in range(len(lst)):\n",
    "    print(i,'=',lst[i])"
   ]
  },
  {
   "cell_type": "code",
   "execution_count": 24,
   "id": "6fe2b3d1",
   "metadata": {},
   "outputs": [
    {
     "name": "stdout",
     "output_type": "stream",
     "text": [
      "2\n",
      "9\n"
     ]
    }
   ],
   "source": [
    "for i in range(len(lst)): #i=0,i=1,i=2\n",
    "    if(lst[i] =='cse'):# 2 == 'cse' , 7 == 'cse' , 'cse' == 'cse'\n",
    "        print(i)"
   ]
  },
  {
   "cell_type": "code",
   "execution_count": null,
   "id": "eeeb329b",
   "metadata": {},
   "outputs": [],
   "source": []
  }
 ],
 "metadata": {
  "kernelspec": {
   "display_name": "Python 3",
   "language": "python",
   "name": "python3"
  },
  "language_info": {
   "codemirror_mode": {
    "name": "ipython",
    "version": 3
   },
   "file_extension": ".py",
   "mimetype": "text/x-python",
   "name": "python",
   "nbconvert_exporter": "python",
   "pygments_lexer": "ipython3",
   "version": "3.8.8"
  }
 },
 "nbformat": 4,
 "nbformat_minor": 5
}
