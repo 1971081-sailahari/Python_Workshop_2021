{
 "cells": [
  {
   "cell_type": "markdown",
   "id": "fb27fd0d",
   "metadata": {},
   "source": [
    "### Conditional statements\n",
    "- if\n",
    "- elif\n",
    "- else\n",
    "- nested if"
   ]
  },
  {
   "cell_type": "code",
   "execution_count": 2,
   "id": "f162969e",
   "metadata": {},
   "outputs": [
    {
     "name": "stdout",
     "output_type": "stream",
     "text": [
      "a is greater than b\n"
     ]
    }
   ],
   "source": [
    "a,b = 12,10\n",
    "if(a>b): #true\n",
    "    print(\"a is greater than b\")\n",
    "else:\n",
    "    print(\"a is less than b\")"
   ]
  },
  {
   "cell_type": "code",
   "execution_count": 3,
   "id": "c6270e33",
   "metadata": {},
   "outputs": [
    {
     "name": "stdout",
     "output_type": "stream",
     "text": [
      "a is less than b\n"
     ]
    }
   ],
   "source": [
    "a,b = 12,10\n",
    "if(a<b): #false\n",
    "    print(\"a is greater than b\")\n",
    "else:\n",
    "    print(\"a is less than b\")"
   ]
  },
  {
   "cell_type": "code",
   "execution_count": 1,
   "id": "04d51a44",
   "metadata": {},
   "outputs": [
    {
     "name": "stdout",
     "output_type": "stream",
     "text": [
      "enter 1st number: 8\n",
      "enter 2nd number: 12\n",
      "enter 3rd number: -16\n",
      "12 is big number\n"
     ]
    }
   ],
   "source": [
    "n1 = int(input(\"enter 1st number: \")) #8\n",
    "n2 = int(input(\"enter 2nd number: \")) #12\n",
    "n3 = int(input(\"enter 3rd number: \")) #-16\n",
    "if(n1>n2 and n1>n3):\n",
    "    print(\"n1 is big number\")\n",
    "elif(n2>n1 and n2>n3):\n",
    "    print(n2, \"is big number\")\n",
    "else:\n",
    "    print(n3, \"is big number\")\n",
    "        "
   ]
  },
  {
   "cell_type": "code",
   "execution_count": 3,
   "id": "186085ae",
   "metadata": {},
   "outputs": [
    {
     "name": "stdout",
     "output_type": "stream",
     "text": [
      "1st num: 1\n",
      "2nd num: 2\n",
      "3rd num: 3\n",
      "4th num: 4\n",
      "4 n4 is big: \n"
     ]
    }
   ],
   "source": [
    "n1 =int(input(\"1st num: \"))\n",
    "n2 =int(input(\"2nd num: \"))\n",
    "n3 =int(input(\"3rd num: \"))\n",
    "n4 =int(input(\"4th num: \"))\n",
    "if(n1>n2 and n1>n3 and n1>n4):\n",
    "    print(n1,\"n1 is big: \")\n",
    "elif(n2>n1 and n2>n3 and n2>n4):\n",
    "    print(n2,\"n2 is big: \")\n",
    "elif(n3>n1 and n3>n2 and n3>n4):\n",
    "    print(n3,\"n3 is big: \")\n",
    "else:\n",
    "    print(n4, \"n4 is big: \")\n",
    "        "
   ]
  },
  {
   "cell_type": "markdown",
   "id": "68befca4",
   "metadata": {},
   "source": [
    "#### Nested if"
   ]
  },
  {
   "cell_type": "code",
   "execution_count": 2,
   "id": "1214b9e9",
   "metadata": {},
   "outputs": [
    {
     "name": "stdout",
     "output_type": "stream",
     "text": [
      "enter a number:12\n",
      "12 is even number\n"
     ]
    }
   ],
   "source": [
    "n = int(input(\"enter a number:\"))\n",
    "if(n != 10):\n",
    "    if(n%2 == 0):\n",
    "        print(n,\"is even number\")\n",
    "    if(n%2 !=0):\n",
    "        print(n,\"is odd number\")\n",
    "else:\n",
    "    print(n,\"is not a positive number\")"
   ]
  },
  {
   "cell_type": "markdown",
   "id": "96b7d680",
   "metadata": {},
   "source": []
  },
  {
   "cell_type": "code",
   "execution_count": 6,
   "id": "59ccc776",
   "metadata": {},
   "outputs": [
    {
     "name": "stdout",
     "output_type": "stream",
     "text": [
      "enter a number:9\n",
      "9 is not equal to 10\n"
     ]
    }
   ],
   "source": [
    "n = int(input(\"enter a number:\"))\n",
    "if(n == 10): # (10 == 10)\n",
    "    if(n%2 == 0):\n",
    "        print(n,\"is even number\")\n",
    "    if(n%2 !=0):\n",
    "        print(n,\"is odd number\")\n",
    "else:\n",
    "    print(n,\"is not equal to 10\")"
   ]
  },
  {
   "cell_type": "code",
   "execution_count": 10,
   "id": "3925b697",
   "metadata": {},
   "outputs": [
    {
     "name": "stdout",
     "output_type": "stream",
     "text": [
      "enter a number:12\n",
      "12 is not equal to 10\n"
     ]
    }
   ],
   "source": [
    "n = int(input(\"enter a number:\"))\n",
    "if(n == 10): # (10 == 10)\n",
    "    if(n%2 == 0):\n",
    "        print(n,\"is even number\")\n",
    "    if(n%2 !=0):\n",
    "        print(n,\"is odd number\")\n",
    "else:\n",
    "    print(n,\"is not equal to 10\")"
   ]
  },
  {
   "cell_type": "code",
   "execution_count": 4,
   "id": "0ecb798a",
   "metadata": {},
   "outputs": [
    {
     "name": "stdout",
     "output_type": "stream",
     "text": [
      "enter a number:-12\n",
      "-12 is not a positive number\n"
     ]
    }
   ],
   "source": [
    "n = int(input(\"enter a number:\"))\n",
    "if(n != 10 and not(n<0)):\n",
    "    if(n%2 == 0):\n",
    "        print(n,\"is even number\")\n",
    "    if(n%2 !=0):\n",
    "        print(n,\"is odd number\")\n",
    "else:\n",
    "    print(n,\"is not a positive number\")"
   ]
  },
  {
   "cell_type": "code",
   "execution_count": 8,
   "id": "8f2c2131",
   "metadata": {},
   "outputs": [
    {
     "name": "stdout",
     "output_type": "stream",
     "text": [
      "enter a number:9\n",
      "9 is odd number\n"
     ]
    }
   ],
   "source": [
    "n = int(input(\"enter a number:\"))\n",
    "if(n >=0):\n",
    "    if(n%2 == 0):\n",
    "        print(n,\"is even number\")\n",
    "    elif(n%2 !=0):\n",
    "        print(n,\"is odd number\")\n",
    "else:\n",
    "    print(n,\"is not a positive number\")"
   ]
  },
  {
   "cell_type": "code",
   "execution_count": 9,
   "id": "b176bfa7",
   "metadata": {},
   "outputs": [
    {
     "name": "stdout",
     "output_type": "stream",
     "text": [
      "enter a number:12\n",
      "12 is even number\n"
     ]
    }
   ],
   "source": [
    "n = int(input(\"enter a number:\"))\n",
    "if(n >=0):\n",
    "    if(n%2 == 0):\n",
    "        print(n,\"is even number\")\n",
    "    if(n%2 !=0):\n",
    "        print(n,\"is odd number\")\n",
    "else:\n",
    "    print(n,\"is not a positive number\")"
   ]
  },
  {
   "cell_type": "markdown",
   "id": "3af08b76",
   "metadata": {},
   "source": [
    "### Looping statements\n",
    "- A for loop is used for iterating over a sequence(list,tuple,dictionary,a set, or string)"
   ]
  },
  {
   "cell_type": "code",
   "execution_count": 8,
   "id": "7f493695",
   "metadata": {},
   "outputs": [
    {
     "name": "stdout",
     "output_type": "stream",
     "text": [
      "0\n",
      "1\n",
      "2\n",
      "3\n",
      "4\n"
     ]
    }
   ],
   "source": [
    "for i in range(5): # 0 to n-1\n",
    "    print(i)"
   ]
  },
  {
   "cell_type": "code",
   "execution_count": 9,
   "id": "ab8d600b",
   "metadata": {},
   "outputs": [
    {
     "name": "stdout",
     "output_type": "stream",
     "text": [
      "1\n",
      "2\n",
      "3\n",
      "4\n"
     ]
    }
   ],
   "source": [
    "for i in range(1,5): # i=1,i=2,i==2+1,i=3+1\n",
    "    print(i)"
   ]
  },
  {
   "cell_type": "code",
   "execution_count": 10,
   "id": "df078d7d",
   "metadata": {},
   "outputs": [
    {
     "name": "stdout",
     "output_type": "stream",
     "text": [
      "1 3 5 7 9 "
     ]
    }
   ],
   "source": [
    "for i in range(1,10,2):\n",
    "    print(i,end=\" \")"
   ]
  },
  {
   "cell_type": "code",
   "execution_count": 11,
   "id": "066c7c3f",
   "metadata": {},
   "outputs": [
    {
     "name": "stdout",
     "output_type": "stream",
     "text": [
      "1\n",
      "3\n",
      "5\n",
      "7\n",
      "9\n"
     ]
    }
   ],
   "source": [
    "for i in range(1,10,2):\n",
    "    print(i)"
   ]
  },
  {
   "cell_type": "code",
   "execution_count": 12,
   "id": "86a16a8f",
   "metadata": {},
   "outputs": [
    {
     "name": "stdout",
     "output_type": "stream",
     "text": [
      "2\n",
      "4\n",
      "6\n",
      "8\n",
      "10\n"
     ]
    }
   ],
   "source": [
    "for i in range(2,11,2):\n",
    "    print(i)"
   ]
  },
  {
   "cell_type": "code",
   "execution_count": 13,
   "id": "6178154d",
   "metadata": {},
   "outputs": [
    {
     "name": "stdout",
     "output_type": "stream",
     "text": [
      "10\n",
      "9\n",
      "8\n",
      "7\n",
      "6\n",
      "5\n",
      "4\n",
      "3\n",
      "2\n",
      "1\n"
     ]
    }
   ],
   "source": [
    "for i in range(10,0,-1):\n",
    "    print(i)"
   ]
  },
  {
   "cell_type": "code",
   "execution_count": 16,
   "id": "df453ed8",
   "metadata": {},
   "outputs": [
    {
     "name": "stdout",
     "output_type": "stream",
     "text": [
      "10\n",
      "8\n",
      "6\n",
      "4\n",
      "2\n"
     ]
    }
   ],
   "source": [
    "for i in range(10,0,-2):\n",
    "    print(i)"
   ]
  },
  {
   "cell_type": "code",
   "execution_count": 18,
   "id": "073544ee",
   "metadata": {},
   "outputs": [
    {
     "name": "stdout",
     "output_type": "stream",
     "text": [
      "1\n",
      "5\n",
      "2\n",
      "8\n",
      "10\n"
     ]
    }
   ],
   "source": [
    "lst = [1,5,2,8,10]\n",
    "for j in lst:\n",
    "    print(j)"
   ]
  },
  {
   "cell_type": "code",
   "execution_count": 11,
   "id": "c2d80302",
   "metadata": {},
   "outputs": [
    {
     "name": "stdout",
     "output_type": "stream",
     "text": [
      "6\n"
     ]
    }
   ],
   "source": [
    "x = 4\n",
    "x += 2\n",
    "print(x)"
   ]
  },
  {
   "cell_type": "code",
   "execution_count": 14,
   "id": "8d62c084",
   "metadata": {},
   "outputs": [],
   "source": [
    "a,b = 5,3\n",
    "a += b\n",
    "a -= b"
   ]
  },
  {
   "cell_type": "code",
   "execution_count": null,
   "id": "af4e5c2a",
   "metadata": {},
   "outputs": [],
   "source": [
    "fruits = [\"apple\",\"banana\",\"mango\",\"guava\"]"
   ]
  }
 ],
 "metadata": {
  "kernelspec": {
   "display_name": "Python 3",
   "language": "python",
   "name": "python3"
  },
  "language_info": {
   "codemirror_mode": {
    "name": "ipython",
    "version": 3
   },
   "file_extension": ".py",
   "mimetype": "text/x-python",
   "name": "python",
   "nbconvert_exporter": "python",
   "pygments_lexer": "ipython3",
   "version": "3.8.8"
  }
 },
 "nbformat": 4,
 "nbformat_minor": 5
}
