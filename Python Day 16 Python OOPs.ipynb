{
 "cells": [
  {
   "cell_type": "code",
   "execution_count": 5,
   "id": "c32319ed",
   "metadata": {},
   "outputs": [
    {
     "ename": "TypeError",
     "evalue": "add() takes 2 positional arguments but 5 were given",
     "output_type": "error",
     "traceback": [
      "\u001b[1;31m---------------------------------------------------------------------------\u001b[0m",
      "\u001b[1;31mTypeError\u001b[0m                                 Traceback (most recent call last)",
      "\u001b[1;32m<ipython-input-5-62f608c577b6>\u001b[0m in \u001b[0;36m<module>\u001b[1;34m\u001b[0m\n\u001b[0;32m      3\u001b[0m     \u001b[0mprint\u001b[0m\u001b[1;33m(\u001b[0m\u001b[1;34m\"b=\"\u001b[0m\u001b[1;33m,\u001b[0m\u001b[0mb\u001b[0m\u001b[1;33m)\u001b[0m\u001b[1;33m\u001b[0m\u001b[1;33m\u001b[0m\u001b[0m\n\u001b[0;32m      4\u001b[0m \u001b[1;33m\u001b[0m\u001b[0m\n\u001b[1;32m----> 5\u001b[1;33m \u001b[0madd\u001b[0m\u001b[1;33m(\u001b[0m\u001b[1;36m1\u001b[0m\u001b[1;33m,\u001b[0m\u001b[1;36m2\u001b[0m\u001b[1;33m,\u001b[0m\u001b[1;36m3\u001b[0m\u001b[1;33m,\u001b[0m\u001b[1;36m4\u001b[0m\u001b[1;33m,\u001b[0m\u001b[1;36m5\u001b[0m\u001b[1;33m)\u001b[0m\u001b[1;33m\u001b[0m\u001b[1;33m\u001b[0m\u001b[0m\n\u001b[0m",
      "\u001b[1;31mTypeError\u001b[0m: add() takes 2 positional arguments but 5 were given"
     ]
    }
   ],
   "source": [
    "def add(a,b):\n",
    "    print(\"a=\",a)\n",
    "    print(\"b=\",b)\n",
    "    \n",
    "add(1,2,3,4,5)"
   ]
  },
  {
   "cell_type": "code",
   "execution_count": 6,
   "id": "d3e013b0",
   "metadata": {},
   "outputs": [
    {
     "name": "stdout",
     "output_type": "stream",
     "text": [
      "a= 1\n",
      "b= (2, 3, 4, 5)\n"
     ]
    }
   ],
   "source": [
    "def add(a,*b): #formal arguments\n",
    "    print(\"a=\",a)\n",
    "    print(\"b=\",b)\n",
    "    \n",
    "add(1,2,3,4,5) #actual arguments"
   ]
  },
  {
   "cell_type": "code",
   "execution_count": 7,
   "id": "52ff4ef6",
   "metadata": {},
   "outputs": [
    {
     "name": "stdout",
     "output_type": "stream",
     "text": [
      "15\n"
     ]
    }
   ],
   "source": [
    "def add(a,*b):\n",
    "    summation = a # summation = 1\n",
    "    for i in b: # 2\n",
    "        summation += i\n",
    "    print(summation)\n",
    "    \n",
    "add(1,2,3,4,5)"
   ]
  },
  {
   "cell_type": "markdown",
   "id": "12c33f92",
   "metadata": {},
   "source": [
    "### What is Object Oriented Programming(OOPs)?\n",
    "- OOPs allows decomposition of a problem into a no of units called objects.\n",
    "- Python is an object oriented programming language.\n",
    "\n",
    "### Why to use OOP?\n",
    "- Provides a clear programming structure.\n",
    "- It makes the development and maintenance easier.\n",
    "- Code reusability.\n",
    "\n",
    "### Class\n",
    "- Class is a collection of variables and methods.\n",
    "\n",
    "    syntax: class className:\n",
    "                list of variables\n",
    "                list of methods\n",
    "                \n",
    "### Object\n",
    "- An object is also called an instance of a class.\n",
    "- An Object is a collection of data and methods.\n",
    "    \n",
    "    syntax: objectName=className"
   ]
  },
  {
   "cell_type": "code",
   "execution_count": 8,
   "id": "111409c5",
   "metadata": {},
   "outputs": [
    {
     "data": {
      "text/plain": [
       "10"
      ]
     },
     "execution_count": 8,
     "metadata": {},
     "output_type": "execute_result"
    }
   ],
   "source": [
    "# Example for class creation\n",
    "\n",
    "class Hi:\n",
    "    a,b = 10,20\n",
    "    def display():\n",
    "        print(\"Hi, I am from display function\")\n",
    "        \n",
    "obj = Hi\n",
    "obj.a"
   ]
  },
  {
   "cell_type": "code",
   "execution_count": 9,
   "id": "1a80e331",
   "metadata": {},
   "outputs": [
    {
     "name": "stdout",
     "output_type": "stream",
     "text": [
      "10\n",
      "20\n",
      "Hi, I am from display function\n",
      "None\n"
     ]
    }
   ],
   "source": [
    "# Example for class creation\n",
    "\n",
    "class Hi:\n",
    "    a,b = 10,20\n",
    "    def display():\n",
    "        print(\"Hi, I am from display function\")\n",
    "        \n",
    "obj = Hi\n",
    "print(obj.a)\n",
    "print(obj.b)\n",
    "print(obj.display())"
   ]
  },
  {
   "cell_type": "code",
   "execution_count": 10,
   "id": "f57e76ff",
   "metadata": {},
   "outputs": [
    {
     "name": "stdout",
     "output_type": "stream",
     "text": [
      "10\n",
      "20\n",
      "Hi, I am from display function\n"
     ]
    }
   ],
   "source": [
    "# Example for class creation\n",
    "\n",
    "class Hi:\n",
    "    a,b = 10,20\n",
    "    def display():\n",
    "        print(\"Hi, I am from display function\")\n",
    "        \n",
    "obj = Hi\n",
    "print(obj.a)\n",
    "print(obj.b)\n",
    "obj.display()"
   ]
  },
  {
   "cell_type": "code",
   "execution_count": 11,
   "id": "fd4e03e2",
   "metadata": {},
   "outputs": [
    {
     "name": "stdout",
     "output_type": "stream",
     "text": [
      "10\n",
      "20\n",
      "Hi, I am from display function\n",
      "9\n"
     ]
    }
   ],
   "source": [
    "# Example for class creation\n",
    "\n",
    "class Hi:\n",
    "    a,b = 10,20\n",
    "    def display():\n",
    "        print(\"Hi, I am from display function\")\n",
    "        return 9\n",
    "        \n",
    "obj = Hi\n",
    "print(obj.a)\n",
    "print(obj.b)\n",
    "print(obj.display())"
   ]
  },
  {
   "cell_type": "code",
   "execution_count": 14,
   "id": "4be95b8c",
   "metadata": {},
   "outputs": [
    {
     "name": "stdout",
     "output_type": "stream",
     "text": [
      "25\n",
      "6\n"
     ]
    }
   ],
   "source": [
    "class Math:\n",
    "    def add(n1,n2):\n",
    "        return n1+n2\n",
    "    def mul(n1,n2):\n",
    "        return n1*n2\n",
    "    \n",
    "obj = Math\n",
    "print(obj.add(12,13))\n",
    "print(obj.mul(2,3))"
   ]
  },
  {
   "cell_type": "markdown",
   "id": "bbfde2a5",
   "metadata": {},
   "source": [
    "### Constructor\n",
    "- It's task is to intialize to the data members of a class when an object of a class is created.\n",
    "\n",
    "          syntax:\n",
    "                      class className:\n",
    "                           def __init__(self): it is constructor\n",
    "                           def __init__(self,a,b):\n",
    "                           def __init__(a,b,self):\n",
    "                           \n",
    "- The Self parameter is a reference to the current instance of the class, and is used to access variables that belongs to the class. "
   ]
  },
  {
   "cell_type": "code",
   "execution_count": 18,
   "id": "ed4ae0e7",
   "metadata": {},
   "outputs": [
    {
     "name": "stdout",
     "output_type": "stream",
     "text": [
      "2\n",
      "5\n"
     ]
    }
   ],
   "source": [
    "class math:\n",
    "    def __init__(self,n1,n2):\n",
    "        self.n1 = n1\n",
    "        self.n2 = n2\n",
    "    def show(self):\n",
    "        print(self.n1)\n",
    "        print(self.n2)\n",
    "        \n",
    "obj = math(2,5)\n",
    "obj.show()"
   ]
  },
  {
   "cell_type": "code",
   "execution_count": 19,
   "id": "a47ad148",
   "metadata": {},
   "outputs": [
    {
     "name": "stdout",
     "output_type": "stream",
     "text": [
      "2\n",
      "5\n"
     ]
    }
   ],
   "source": [
    "class math:\n",
    "    def __init__(abc,n1,n2):\n",
    "        abc.n1 = n1\n",
    "        abc.n2 = n2\n",
    "    def show(abc):\n",
    "        print(abc.n1)\n",
    "        print(abc.n2)\n",
    "        \n",
    "obj = math(2,5)\n",
    "obj.show()"
   ]
  },
  {
   "cell_type": "code",
   "execution_count": 20,
   "id": "29e3dd39",
   "metadata": {},
   "outputs": [
    {
     "name": "stdout",
     "output_type": "stream",
     "text": [
      "<class '__main__.Myclass'>\n"
     ]
    }
   ],
   "source": [
    "class Myclass:\n",
    "    x = 5\n",
    "    \n",
    "print(Myclass)"
   ]
  },
  {
   "cell_type": "markdown",
   "id": "e3d15ddd",
   "metadata": {},
   "source": [
    "### Single inheritance"
   ]
  },
  {
   "cell_type": "code",
   "execution_count": 21,
   "id": "9695d3fd",
   "metadata": {},
   "outputs": [
    {
     "data": {
      "text/plain": [
       "20"
      ]
     },
     "execution_count": 21,
     "metadata": {},
     "output_type": "execute_result"
    }
   ],
   "source": [
    "class A:\n",
    "    a,b =10,20\n",
    "    def display():\n",
    "        print('I am from class A')\n",
    "class B(A):\n",
    "    c,d = 13,15\n",
    "    def show():\n",
    "        print('I am from class B')\n",
    "        \n",
    "obj = B\n",
    "obj.b"
   ]
  },
  {
   "cell_type": "code",
   "execution_count": 1,
   "id": "c89eeed3",
   "metadata": {},
   "outputs": [
    {
     "name": "stdout",
     "output_type": "stream",
     "text": [
      "20\n",
      "I am from class A\n",
      "None\n"
     ]
    },
    {
     "data": {
      "text/plain": [
       "13"
      ]
     },
     "execution_count": 1,
     "metadata": {},
     "output_type": "execute_result"
    }
   ],
   "source": [
    "class A:\n",
    "    a,b =10,20\n",
    "    def display():\n",
    "        print('I am from class A')\n",
    "class B(A):\n",
    "    c,d = 13,15\n",
    "    def show():\n",
    "        print('I am from class B')\n",
    "        \n",
    "obj = B\n",
    "print(obj.b)\n",
    "print(obj.display())\n",
    "obj.c"
   ]
  },
  {
   "cell_type": "markdown",
   "id": "896eb875",
   "metadata": {},
   "source": [
    "### Multilevel inheritance\n",
    "- One or more parent classes and one or more child classes"
   ]
  },
  {
   "cell_type": "code",
   "execution_count": 22,
   "id": "df56c8f8",
   "metadata": {},
   "outputs": [
    {
     "name": "stdout",
     "output_type": "stream",
     "text": [
      "I am from class A\n"
     ]
    }
   ],
   "source": [
    "class A:\n",
    "    def classA():\n",
    "        print(\"I am from class A\")\n",
    "class B(A):\n",
    "    def classB():\n",
    "        print(\"I am from class B\")\n",
    "class C(B):\n",
    "    def classB():\n",
    "        print(\"I am from class B\")\n",
    "        \n",
    "obj = C\n",
    "obj.classA()"
   ]
  },
  {
   "cell_type": "code",
   "execution_count": 25,
   "id": "5e2ecf29",
   "metadata": {},
   "outputs": [
    {
     "name": "stdout",
     "output_type": "stream",
     "text": [
      "I am from class B\n"
     ]
    }
   ],
   "source": [
    "obj.classB()"
   ]
  },
  {
   "cell_type": "code",
   "execution_count": 23,
   "id": "5634a2cc",
   "metadata": {},
   "outputs": [
    {
     "name": "stdout",
     "output_type": "stream",
     "text": [
      "I am from class A\n",
      "None\n",
      "I am from class B\n",
      "None\n"
     ]
    }
   ],
   "source": [
    "class A:\n",
    "    def classA():\n",
    "        print(\"I am from class A\")\n",
    "class B(A):\n",
    "    def classB():\n",
    "        print(\"I am from class B\")\n",
    "class C(B):\n",
    "    def classB():\n",
    "        print(\"I am from class B\")\n",
    "        \n",
    "obj = C\n",
    "print(obj.classA())\n",
    "print(obj.classB())"
   ]
  },
  {
   "cell_type": "markdown",
   "id": "2de5d8c9",
   "metadata": {},
   "source": [
    "### Multiple inheritance\n",
    "- More than one parent class and one child class"
   ]
  },
  {
   "cell_type": "code",
   "execution_count": null,
   "id": "294cacdf",
   "metadata": {},
   "outputs": [],
   "source": []
  }
 ],
 "metadata": {
  "kernelspec": {
   "display_name": "Python 3",
   "language": "python",
   "name": "python3"
  },
  "language_info": {
   "codemirror_mode": {
    "name": "ipython",
    "version": 3
   },
   "file_extension": ".py",
   "mimetype": "text/x-python",
   "name": "python",
   "nbconvert_exporter": "python",
   "pygments_lexer": "ipython3",
   "version": "3.8.8"
  }
 },
 "nbformat": 4,
 "nbformat_minor": 5
}
