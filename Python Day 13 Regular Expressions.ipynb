{
 "cells": [
  {
   "cell_type": "markdown",
   "id": "93fbaa12",
   "metadata": {},
   "source": [
    "### Regular Expression\n",
    "\n",
    "* First we have to import expression package **re**\n",
    "* **re.methodname(string/string variable,pattern/pattern variable)**\n",
    "\n",
    "#### Methods in re\n",
    "\n",
    "* search()\n",
    "* match()\n",
    "* findall()"
   ]
  },
  {
   "cell_type": "code",
   "execution_count": 2,
   "id": "94790253",
   "metadata": {},
   "outputs": [
    {
     "data": {
      "text/plain": [
       "6.0"
      ]
     },
     "execution_count": 2,
     "metadata": {},
     "output_type": "execute_result"
    }
   ],
   "source": [
    "import math\n",
    "\n",
    "math.sqrt(36)"
   ]
  },
  {
   "cell_type": "code",
   "execution_count": 3,
   "id": "9465fb84",
   "metadata": {},
   "outputs": [
    {
     "data": {
      "text/plain": [
       "6.0"
      ]
     },
     "execution_count": 3,
     "metadata": {},
     "output_type": "execute_result"
    }
   ],
   "source": [
    "36**0.5"
   ]
  },
  {
   "cell_type": "code",
   "execution_count": 4,
   "id": "0d14d07d",
   "metadata": {},
   "outputs": [
    {
     "data": {
      "text/plain": [
       "<re.Match object; span=(0, 1), match='A'>"
      ]
     },
     "execution_count": 4,
     "metadata": {},
     "output_type": "execute_result"
    }
   ],
   "source": [
    "import re\n",
    "\n",
    "re.search(\"A\",\"APSSDC\")"
   ]
  },
  {
   "cell_type": "code",
   "execution_count": 5,
   "id": "29816eec",
   "metadata": {},
   "outputs": [
    {
     "name": "stdout",
     "output_type": "stream",
     "text": [
      "<re.Match object; span=(2, 4), match='ss'>\n",
      "None\n"
     ]
    }
   ],
   "source": [
    "import re\n",
    "\n",
    "print(re.search(\"ss\",\"Apssdc\"))\n",
    "print(re.search(\"pyt\",\"APSSDC\"))"
   ]
  },
  {
   "cell_type": "code",
   "execution_count": 6,
   "id": "cdc9aaf1",
   "metadata": {},
   "outputs": [
    {
     "name": "stdout",
     "output_type": "stream",
     "text": [
      "APSSDC@1521\n",
      "<re.Match object; span=(6, 7), match='@'>\n"
     ]
    }
   ],
   "source": [
    "n = input()\n",
    "print(re.search(\"@\",n))"
   ]
  },
  {
   "cell_type": "code",
   "execution_count": 7,
   "id": "3931b696",
   "metadata": {},
   "outputs": [
    {
     "name": "stdout",
     "output_type": "stream",
     "text": [
      "None\n",
      "<re.Match object; span=(0, 3), match='APS'>\n"
     ]
    }
   ],
   "source": [
    "# Match method\n",
    "print(re.match(\"ss\",\"Apssdc\")) # check character by character\n",
    "print(re.match(\"APS\",\"APSSDC\"))\n"
   ]
  },
  {
   "cell_type": "code",
   "execution_count": 8,
   "id": "7334d022",
   "metadata": {},
   "outputs": [
    {
     "name": "stdout",
     "output_type": "stream",
     "text": [
      "['ss', 'ss', 'ss', 'ss']\n"
     ]
    },
    {
     "data": {
      "text/plain": [
       "4"
      ]
     },
     "execution_count": 8,
     "metadata": {},
     "output_type": "execute_result"
    }
   ],
   "source": [
    "#findall\n",
    "print(re.findall(\"ss\",\"AppssdcssDssDss\"))\n",
    "s = re.findall(\"ss\",\"ApssdcssDssDss\")\n",
    "len(s)"
   ]
  },
  {
   "cell_type": "code",
   "execution_count": 9,
   "id": "1741ad80",
   "metadata": {},
   "outputs": [],
   "source": [
    "# 7013021421 match (\"701\",\"7013021421\") matching\n",
    "# 0123456789 search (\"7\")"
   ]
  },
  {
   "cell_type": "markdown",
   "id": "4798f20b",
   "metadata": {},
   "source": [
    "#### Symbols in re\n",
    "\n",
    "<img src = \n",
    "     https://miro.medium.com/max/2964/1*hjsbL45MhT2Tw5DGAYoAUg.png"
   ]
  },
  {
   "cell_type": "code",
   "execution_count": 31,
   "id": "8edf35e6",
   "metadata": {},
   "outputs": [
    {
     "name": "stdout",
     "output_type": "stream",
     "text": [
      "<re.Match object; span=(0, 2), match='@A'>\n",
      "<re.Match object; span=(0, 2), match='AP'>\n",
      "None\n",
      "None\n"
     ]
    }
   ],
   "source": [
    "# \".\" symbol\n",
    "print(re.search(\"..\",\"@APSSDC\"))\n",
    "print(re.search(\"..\",\"AP\"))\n",
    "print(re.search(\"..\",\"A\"))\n",
    "print(re.search(\"..\",\"\"))"
   ]
  },
  {
   "cell_type": "code",
   "execution_count": 11,
   "id": "557613ad",
   "metadata": {},
   "outputs": [
    {
     "name": "stdout",
     "output_type": "stream",
     "text": [
      "<re.Match object; span=(0, 1), match='A'>\n",
      "<re.Match object; span=(0, 2), match='AP'>\n",
      "None\n"
     ]
    }
   ],
   "source": [
    "# \"^\" symbol\n",
    "print(re.search(\"^A\",\"APSSDC\"))\n",
    "print(re.search(\"^AP\",\"APSSDC\"))\n",
    "print(re.search(\"^A\",\"SAPSSDC\"))"
   ]
  },
  {
   "cell_type": "code",
   "execution_count": 12,
   "id": "cb499e68",
   "metadata": {},
   "outputs": [
    {
     "name": "stdout",
     "output_type": "stream",
     "text": [
      "<re.Match object; span=(4, 6), match='DC'>\n",
      "<re.Match object; span=(5, 6), match='C'>\n",
      "None\n",
      "None\n"
     ]
    }
   ],
   "source": [
    "# \"$\" symbol\n",
    "print(re.search(\"DC$\",\"APSSDC\"))\n",
    "print(re.search(\"C$\",\"APSSDC\"))\n",
    "print(re.search(\"DC$\",\"APSSDS\"))\n",
    "print(re.match(\"DC$\",\"APSSDC\"))"
   ]
  },
  {
   "cell_type": "code",
   "execution_count": 15,
   "id": "edb96cf3",
   "metadata": {},
   "outputs": [
    {
     "name": "stdout",
     "output_type": "stream",
     "text": [
      "<re.Match object; span=(0, 7), match='AAAAAAA'>\n",
      "<re.Match object; span=(0, 0), match=''>\n",
      "None\n"
     ]
    }
   ],
   "source": [
    "# \"*\" symbol\n",
    "print(re.search(\"A*\",\"AAAAAAAPSSDC\"))\n",
    "print(re.search(\"A*\",\"PSSDC\"))\n",
    "print(re.search(\"A\",\"PSSDC\"))"
   ]
  },
  {
   "cell_type": "code",
   "execution_count": 17,
   "id": "653b72ec",
   "metadata": {},
   "outputs": [
    {
     "name": "stdout",
     "output_type": "stream",
     "text": [
      "<re.Match object; span=(0, 7), match='AAAAAAA'>\n",
      "None\n",
      "<re.Match object; span=(0, 1), match='A'>\n"
     ]
    }
   ],
   "source": [
    "# \"+\" symbol # minimum one time\n",
    "\n",
    "print(re.search(\"A+\",\"AAAAAAAPSSDC\"))\n",
    "print(re.search(\"A+\",\"PSSDC\"))\n",
    "print(re.search(\"A+\",\"APSSDC\"))"
   ]
  },
  {
   "cell_type": "code",
   "execution_count": 18,
   "id": "90e47538",
   "metadata": {},
   "outputs": [
    {
     "name": "stdout",
     "output_type": "stream",
     "text": [
      "<re.Match object; span=(0, 1), match='A'>\n",
      "None\n",
      "<re.Match object; span=(0, 0), match=''>\n"
     ]
    }
   ],
   "source": [
    "# {min,max}\n",
    "print(re.search(\"A{1,3}\",\"APSSDC\"))\n",
    "print(re.search(\"A{1}\",\"PSSDC\"))\n",
    "print(re.search(\"A{0,1}\",\"PSSDC\"))"
   ]
  },
  {
   "cell_type": "code",
   "execution_count": 19,
   "id": "dbc75262",
   "metadata": {},
   "outputs": [
    {
     "name": "stdout",
     "output_type": "stream",
     "text": [
      "<re.Match object; span=(0, 5), match='AAAAA'>\n",
      "None\n",
      "<re.Match object; span=(0, 0), match=''>\n"
     ]
    }
   ],
   "source": [
    "# {min,max}\n",
    "print(re.search(\"A{1,5}\",\"AAAAAAAPSSDC\"))\n",
    "print(re.search(\"A{1,5}\",\"PSSDC\"))\n",
    "print(re.search(\"A{0,1}\",\"PSSDC\"))"
   ]
  },
  {
   "cell_type": "code",
   "execution_count": 22,
   "id": "679767dd",
   "metadata": {},
   "outputs": [
    {
     "name": "stdout",
     "output_type": "stream",
     "text": [
      "<re.Match object; span=(2, 3), match='S'>\n",
      "<re.Match object; span=(3, 4), match='T'>\n",
      "<re.Match object; span=(0, 1), match='P'>\n",
      "None\n"
     ]
    }
   ],
   "source": [
    "# []\n",
    "print(re.search(\"[ST]\",\"APSSDC\"))\n",
    "print(re.search(\"[TV]\",\"PSSTDC\"))\n",
    "print(re.match(\"[ASP]\",\"PSSDC\"))\n",
    "print(re.match(\"[TV]\",\"APSSDCTV\"))"
   ]
  },
  {
   "cell_type": "code",
   "execution_count": 23,
   "id": "ec005305",
   "metadata": {},
   "outputs": [
    {
     "name": "stdout",
     "output_type": "stream",
     "text": [
      "<re.Match object; span=(2, 3), match='S'>\n",
      "<re.Match object; span=(3, 4), match='T'>\n",
      "None\n",
      "<re.Match object; span=(0, 1), match='P'>\n",
      "None\n"
     ]
    }
   ],
   "source": [
    "# []\n",
    "print(re.search(\"[ST]\",\"APSSDC\"))\n",
    "print(re.search(\"[TV]\",\"PSSTDC\"))\n",
    "print(re.search(\"TV\",\"APSSTDC\"))\n",
    "print(re.match(\"[ASP]\",\"PSSDC\"))\n",
    "print(re.match(\"[TV]\",\"APSSDCTV\"))"
   ]
  },
  {
   "cell_type": "code",
   "execution_count": 55,
   "id": "f2f5e010",
   "metadata": {},
   "outputs": [
    {
     "name": "stdout",
     "output_type": "stream",
     "text": [
      "<re.Match object; span=(2, 3), match='1'>\n",
      "<re.Match object; span=(3, 5), match='12'>\n",
      "<re.Match object; span=(2, 3), match='P'>\n",
      "<re.Match object; span=(0, 2), match='12'>\n",
      "None\n"
     ]
    }
   ],
   "source": [
    "# \"\\d,\\D,\\s,\\S\"\n",
    "print(re.search(\"\\d\",\"AA12AAAAAPSSDC\"))\n",
    "print(re.search(\"\\d\\d\",\"PSS12DC\"))\n",
    "print(re.search(\"\\D\",\"12PSSDC\")) # other than digit\n",
    "print(re.match(\"\\d\\d\",\"12AAAAAAAPSSDC\"))\n",
    "print(re.match(\"\\d\\d\",\"Ss12AAAAAAAPSSDC\"))"
   ]
  },
  {
   "cell_type": "code",
   "execution_count": null,
   "id": "52c87461",
   "metadata": {},
   "outputs": [],
   "source": []
  }
 ],
 "metadata": {
  "kernelspec": {
   "display_name": "Python 3",
   "language": "python",
   "name": "python3"
  },
  "language_info": {
   "codemirror_mode": {
    "name": "ipython",
    "version": 3
   },
   "file_extension": ".py",
   "mimetype": "text/x-python",
   "name": "python",
   "nbconvert_exporter": "python",
   "pygments_lexer": "ipython3",
   "version": "3.8.8"
  }
 },
 "nbformat": 4,
 "nbformat_minor": 5
}
