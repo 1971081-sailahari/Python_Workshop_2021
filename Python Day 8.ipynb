{
 "cells": [
  {
   "cell_type": "code",
   "execution_count": 1,
   "id": "9af80b49",
   "metadata": {},
   "outputs": [
    {
     "name": "stdout",
     "output_type": "stream",
     "text": [
      "['__add__', '__class__', '__contains__', '__delattr__', '__dir__', '__doc__', '__eq__', '__format__', '__ge__', '__getattribute__', '__getitem__', '__getnewargs__', '__gt__', '__hash__', '__init__', '__init_subclass__', '__iter__', '__le__', '__len__', '__lt__', '__mod__', '__mul__', '__ne__', '__new__', '__reduce__', '__reduce_ex__', '__repr__', '__rmod__', '__rmul__', '__setattr__', '__sizeof__', '__str__', '__subclasshook__', 'capitalize', 'casefold', 'center', 'count', 'encode', 'endswith', 'expandtabs', 'find', 'format', 'format_map', 'index', 'isalnum', 'isalpha', 'isascii', 'isdecimal', 'isdigit', 'isidentifier', 'islower', 'isnumeric', 'isprintable', 'isspace', 'istitle', 'isupper', 'join', 'ljust', 'lower', 'lstrip', 'maketrans', 'partition', 'replace', 'rfind', 'rindex', 'rjust', 'rpartition', 'rsplit', 'rstrip', 'split', 'splitlines', 'startswith', 'strip', 'swapcase', 'title', 'translate', 'upper', 'zfill']\n"
     ]
    }
   ],
   "source": [
    "print(dir(str))"
   ]
  },
  {
   "cell_type": "code",
   "execution_count": 2,
   "id": "7943d8d2",
   "metadata": {},
   "outputs": [
    {
     "data": {
      "text/plain": [
       "'Python programming'"
      ]
     },
     "execution_count": 2,
     "metadata": {},
     "output_type": "execute_result"
    }
   ],
   "source": [
    "s = \"python programming\"\n",
    "s.capitalize() # capitalise the first character"
   ]
  },
  {
   "cell_type": "code",
   "execution_count": 10,
   "id": "d6434b24",
   "metadata": {},
   "outputs": [
    {
     "data": {
      "text/plain": [
       "'python'"
      ]
     },
     "execution_count": 10,
     "metadata": {},
     "output_type": "execute_result"
    }
   ],
   "source": [
    "s1 =\"PythoN\"\n",
    "s2 =\"python\"\n",
    "s1.casefold() # converts to lowercase alphabet based on keyboards"
   ]
  },
  {
   "cell_type": "code",
   "execution_count": 3,
   "id": "6d076236",
   "metadata": {},
   "outputs": [
    {
     "data": {
      "text/plain": [
       "'python'"
      ]
     },
     "execution_count": 3,
     "metadata": {},
     "output_type": "execute_result"
    }
   ],
   "source": [
    "s1 = \"PythoN\"\n",
    "s1.lower() # always converts to lowercase"
   ]
  },
  {
   "cell_type": "code",
   "execution_count": 4,
   "id": "9d49755c",
   "metadata": {},
   "outputs": [
    {
     "data": {
      "text/plain": [
       "'PythoN'"
      ]
     },
     "execution_count": 4,
     "metadata": {},
     "output_type": "execute_result"
    }
   ],
   "source": [
    "s1"
   ]
  },
  {
   "cell_type": "code",
   "execution_count": 5,
   "id": "34e6fbe4",
   "metadata": {},
   "outputs": [
    {
     "data": {
      "text/plain": [
       "'python'"
      ]
     },
     "execution_count": 5,
     "metadata": {},
     "output_type": "execute_result"
    }
   ],
   "source": [
    "s1 =\"Python\"\n",
    "s2 =\"python\"\n",
    "s2.casefold() # if in lowercase remains unchanged"
   ]
  },
  {
   "cell_type": "code",
   "execution_count": 7,
   "id": "f0a8cc10",
   "metadata": {},
   "outputs": [
    {
     "data": {
      "text/plain": [
       "'PYTHON'"
      ]
     },
     "execution_count": 7,
     "metadata": {},
     "output_type": "execute_result"
    }
   ],
   "source": [
    "s2.upper() # converts to uppercase"
   ]
  },
  {
   "cell_type": "code",
   "execution_count": 8,
   "id": "241707d7",
   "metadata": {},
   "outputs": [
    {
     "data": {
      "text/plain": [
       "'pYTHON'"
      ]
     },
     "execution_count": 8,
     "metadata": {},
     "output_type": "execute_result"
    }
   ],
   "source": [
    "s1.swapcase() # converts uppercase alphabets to lower and lowercase alphabets to upper"
   ]
  },
  {
   "cell_type": "code",
   "execution_count": 15,
   "id": "17a6b1d2",
   "metadata": {},
   "outputs": [
    {
     "data": {
      "text/plain": [
       "False"
      ]
     },
     "execution_count": 15,
     "metadata": {},
     "output_type": "execute_result"
    }
   ],
   "source": [
    "s = \"123\"\n",
    "s.isdigit()\n",
    "s1 = \"Python Programming 123 #$@\"\n",
    "s1.isdigit()"
   ]
  },
  {
   "cell_type": "code",
   "execution_count": 18,
   "id": "58f0bcfb",
   "metadata": {},
   "outputs": [
    {
     "name": "stdout",
     "output_type": "stream",
     "text": [
      "False\n",
      "False\n"
     ]
    }
   ],
   "source": [
    "s = \"Python123\"\n",
    "print(s.isdigit())\n",
    "s1 = \"Python Programming 123 #$@\"\n",
    "print(s1.isdigit())\n",
    "s2 = \"12345\""
   ]
  },
  {
   "cell_type": "code",
   "execution_count": 19,
   "id": "e2e7a61f",
   "metadata": {},
   "outputs": [
    {
     "name": "stdout",
     "output_type": "stream",
     "text": [
      "False\n",
      "False\n",
      "True\n"
     ]
    }
   ],
   "source": [
    "s = \"Python123\"\n",
    "print(s.isdigit())\n",
    "s1 = \"Python Programming 123 #$@\"\n",
    "print(s1.isdigit())\n",
    "s2 = \"12345\"\n",
    "print(s2.isdigit())"
   ]
  },
  {
   "cell_type": "code",
   "execution_count": 22,
   "id": "eb120be2",
   "metadata": {},
   "outputs": [
    {
     "name": "stdout",
     "output_type": "stream",
     "text": [
      "False\n",
      "False\n"
     ]
    },
    {
     "data": {
      "text/plain": [
       "True"
      ]
     },
     "execution_count": 22,
     "metadata": {},
     "output_type": "execute_result"
    }
   ],
   "source": [
    "s = \"Python123\"\n",
    "print(s.isdigit())\n",
    "s1 = \"Python Programming 123 #$@\"\n",
    "print(s1.isdigit())\n",
    "s2 = \"12345\"\n",
    "s2.isdigit()"
   ]
  },
  {
   "cell_type": "code",
   "execution_count": 16,
   "id": "e212706f",
   "metadata": {},
   "outputs": [
    {
     "name": "stdout",
     "output_type": "stream",
     "text": [
      "False\n",
      "False\n"
     ]
    }
   ],
   "source": [
    "s2 = \"Python Programming\"\n",
    "print(s2.isalpha())\n",
    "print(s1.isalpha())"
   ]
  },
  {
   "cell_type": "code",
   "execution_count": 20,
   "id": "20564264",
   "metadata": {},
   "outputs": [
    {
     "name": "stdout",
     "output_type": "stream",
     "text": [
      "False\n",
      "False\n",
      "True\n"
     ]
    }
   ],
   "source": [
    "s3 = \"Python Programming\"\n",
    "print(s2.isalpha())\n",
    "print(s1.isalpha())\n",
    "s4 = \"PythonProgramming\"\n",
    "print(s4.isalpha())"
   ]
  },
  {
   "cell_type": "code",
   "execution_count": 21,
   "id": "44a6d8c5",
   "metadata": {},
   "outputs": [
    {
     "name": "stdout",
     "output_type": "stream",
     "text": [
      "False\n",
      "True\n"
     ]
    }
   ],
   "source": [
    "s3 = \"Python Programming\"\n",
    "print(s3.isalpha())\n",
    "s4 = \"PythonProgramming\"\n",
    "print(s4.isalpha())"
   ]
  },
  {
   "cell_type": "code",
   "execution_count": 23,
   "id": "9e9b7003",
   "metadata": {},
   "outputs": [
    {
     "name": "stdout",
     "output_type": "stream",
     "text": [
      "False\n"
     ]
    }
   ],
   "source": [
    "s1 = \"Python Programming 123 #$@\"\n",
    "print(s1.isalnum())"
   ]
  },
  {
   "cell_type": "code",
   "execution_count": 25,
   "id": "16c599fd",
   "metadata": {},
   "outputs": [
    {
     "name": "stdout",
     "output_type": "stream",
     "text": [
      "True\n"
     ]
    }
   ],
   "source": [
    "s = \"python123\"\n",
    "print(s.isalnum())"
   ]
  },
  {
   "cell_type": "code",
   "execution_count": 28,
   "id": "e31ee794",
   "metadata": {},
   "outputs": [
    {
     "name": "stdout",
     "output_type": "stream",
     "text": [
      "False\n"
     ]
    }
   ],
   "source": [
    "s = \" python123 \"\n",
    "print(s.isalnum())"
   ]
  },
  {
   "cell_type": "code",
   "execution_count": 32,
   "id": "0e4e129d",
   "metadata": {},
   "outputs": [
    {
     "data": {
      "text/plain": [
       "'Python Programming'"
      ]
     },
     "execution_count": 32,
     "metadata": {},
     "output_type": "execute_result"
    }
   ],
   "source": [
    "s3 = \"Python Programming\"\n",
    "s4 = s3.split()\n",
    "type(s4)\n",
    "s3"
   ]
  },
  {
   "cell_type": "code",
   "execution_count": 33,
   "id": "5ee93d34",
   "metadata": {},
   "outputs": [
    {
     "data": {
      "text/plain": [
       "['Python', 'Programming']"
      ]
     },
     "execution_count": 33,
     "metadata": {},
     "output_type": "execute_result"
    }
   ],
   "source": [
    "s3 = \"Python Programming\"\n",
    "s4 = s3.split()\n",
    "type(s4)\n",
    "s3\n",
    "s4"
   ]
  },
  {
   "cell_type": "code",
   "execution_count": 36,
   "id": "8973039e",
   "metadata": {},
   "outputs": [
    {
     "data": {
      "text/plain": [
       "'123Python$# Programming'"
      ]
     },
     "execution_count": 36,
     "metadata": {},
     "output_type": "execute_result"
    }
   ],
   "source": [
    "s3 = \"123Python$# Programming\"\n",
    "s4 = s3.split(\"#\")\n",
    "type(s4)\n",
    "s3"
   ]
  },
  {
   "cell_type": "code",
   "execution_count": 37,
   "id": "df0d3cab",
   "metadata": {},
   "outputs": [
    {
     "data": {
      "text/plain": [
       "['123Python$#', 'Programming']"
      ]
     },
     "execution_count": 37,
     "metadata": {},
     "output_type": "execute_result"
    }
   ],
   "source": [
    "s3 = \"123Python$# Programming\"\n",
    "s4 = s3.split()\n",
    "type(s4)\n",
    "s3\n",
    "s4"
   ]
  },
  {
   "cell_type": "code",
   "execution_count": 40,
   "id": "5d57c0ef",
   "metadata": {},
   "outputs": [
    {
     "data": {
      "text/plain": [
       "['Python', '$', '$', ' Programming']"
      ]
     },
     "execution_count": 40,
     "metadata": {},
     "output_type": "execute_result"
    }
   ],
   "source": [
    "s3 = \"Python#$#$# Programming\"\n",
    "s4 = s3.split(\"#\")\n",
    "type(s4)\n",
    "s3\n",
    "s4"
   ]
  },
  {
   "cell_type": "code",
   "execution_count": 44,
   "id": "19627f7b",
   "metadata": {},
   "outputs": [
    {
     "name": "stdout",
     "output_type": "stream",
     "text": [
      "P y t h o n   P r o g r a m m i n g   1 2 3   # $ @ "
     ]
    }
   ],
   "source": [
    "s1 = \"Python Programming 123 #$@\"\n",
    "for i in s1:\n",
    "    print(i,end = \" \")"
   ]
  },
  {
   "cell_type": "code",
   "execution_count": 43,
   "id": "14cd141f",
   "metadata": {},
   "outputs": [
    {
     "name": "stdout",
     "output_type": "stream",
     "text": [
      "123"
     ]
    }
   ],
   "source": [
    "s1 = \"Python Programming 123 #$@\"\n",
    "for i in s1:\n",
    "    if i.isdigit():\n",
    "        print(i,end= \"\")"
   ]
  },
  {
   "cell_type": "code",
   "execution_count": 51,
   "id": "e6b6eb29",
   "metadata": {},
   "outputs": [
    {
     "name": "stdout",
     "output_type": "stream",
     "text": [
      "1\n",
      "2\n",
      "3\n"
     ]
    },
    {
     "data": {
      "text/plain": [
       "26"
      ]
     },
     "execution_count": 51,
     "metadata": {},
     "output_type": "execute_result"
    }
   ],
   "source": [
    "s1 =\"Python Programming 123 #$@\"\n",
    "for i in s1:\n",
    "    if i.isdigit():\n",
    "        #print(i,end= \"\")\n",
    "        print(i)\n",
    "len(s1)"
   ]
  },
  {
   "cell_type": "code",
   "execution_count": 52,
   "id": "edb8e3e5",
   "metadata": {},
   "outputs": [
    {
     "name": "stdout",
     "output_type": "stream",
     "text": [
      "11\n",
      "22\n",
      "33\n"
     ]
    }
   ],
   "source": [
    "s1 =\"Python Programming 123 #$@\"\n",
    "for i in s1:\n",
    "    if i.isdigit():\n",
    "        print(i,end= \"\")\n",
    "        print(i)"
   ]
  },
  {
   "cell_type": "code",
   "execution_count": 50,
   "id": "52b5b9b4",
   "metadata": {},
   "outputs": [
    {
     "name": "stdout",
     "output_type": "stream",
     "text": [
      "['Pyth12on', 'Programming', '123', '#$@']\n",
      "123\n"
     ]
    }
   ],
   "source": [
    "s1 = \"Pyth12on Programming 123 #$@\".split()\n",
    "print(s1)\n",
    "for i in s1:\n",
    "    if i.isdigit():\n",
    "        print(i)\n"
   ]
  },
  {
   "cell_type": "code",
   "execution_count": 57,
   "id": "4c838038",
   "metadata": {},
   "outputs": [
    {
     "name": "stdout",
     "output_type": "stream",
     "text": [
      "Python Programming      \n",
      "       Python Programming\n",
      "Python Programming\n"
     ]
    }
   ],
   "source": [
    "s = \"       Python Programming      \"\n",
    "print(s.lstrip())\n",
    "print(s.rstrip())\n",
    "print(s.strip())"
   ]
  },
  {
   "cell_type": "code",
   "execution_count": 60,
   "id": "a1bca113",
   "metadata": {},
   "outputs": [
    {
     "name": "stdout",
     "output_type": "stream",
     "text": [
      "@@@@@@@Python@Programming@@@@@@\n",
      "       #ython #rogramming      \n"
     ]
    }
   ],
   "source": [
    "print(s.replace(\" \",\"@\"))\n",
    "print(s.replace(\"P\",\"#\"))"
   ]
  },
  {
   "cell_type": "code",
   "execution_count": 66,
   "id": "cef03595",
   "metadata": {},
   "outputs": [
    {
     "name": "stdout",
     "output_type": "stream",
     "text": [
      "@@@@@@@Python@Programming@@@@@@\n",
      "       #ython #rogramming      \n"
     ]
    },
    {
     "data": {
      "text/plain": [
       "'PythonProgramming'"
      ]
     },
     "execution_count": 66,
     "metadata": {},
     "output_type": "execute_result"
    }
   ],
   "source": [
    "print(s.replace(\" \",\"@\"))\n",
    "print(s.replace(\"P\",\"#\"))\n",
    "s1 =s.strip()\n",
    "s1.replace(\" \",\"\")\n",
    "s.replace(\" \",\"\")"
   ]
  },
  {
   "cell_type": "code",
   "execution_count": 67,
   "id": "6aa4b743",
   "metadata": {},
   "outputs": [
    {
     "data": {
      "text/plain": [
       "'p@y@t@h@o@n@ @p@r@o@g@r@a@m@m@i@n@g'"
      ]
     },
     "execution_count": 67,
     "metadata": {},
     "output_type": "execute_result"
    }
   ],
   "source": [
    "s = \"python programming\"\n",
    "\"@\".join(s)"
   ]
  },
  {
   "cell_type": "code",
   "execution_count": 68,
   "id": "78516bdf",
   "metadata": {},
   "outputs": [
    {
     "data": {
      "text/plain": [
       "' CSEpCSEyCSEtCSEhCSEoCSEnCSE CSEpCSErCSEoCSEgCSErCSEaCSEmCSEmCSEiCSEnCSEgCSE '"
      ]
     },
     "execution_count": 68,
     "metadata": {},
     "output_type": "execute_result"
    }
   ],
   "source": [
    "s = \" python programming \"\n",
    "\"CSE\".join(s)"
   ]
  },
  {
   "cell_type": "code",
   "execution_count": 5,
   "id": "7214e0fc",
   "metadata": {},
   "outputs": [
    {
     "data": {
      "text/plain": [
       "' CSEpCSEyCSEtCSEhCSEoCSEnCSE CSEpCSErCSEoCSEgCSErCSEaCSEmCSEmCSEiCSEnCSEgCSE '"
      ]
     },
     "execution_count": 5,
     "metadata": {},
     "output_type": "execute_result"
    }
   ],
   "source": [
    "s = \" python programming \"\n",
    "\"@\".join(s)\n",
    "\"CSE\".join(s)"
   ]
  },
  {
   "cell_type": "code",
   "execution_count": 69,
   "id": "37a46d41",
   "metadata": {},
   "outputs": [
    {
     "name": "stdout",
     "output_type": "stream",
     "text": [
      "2\n",
      "1\n"
     ]
    }
   ],
   "source": [
    "s.count(\"g\")\n",
    "print(s.count(\"m\"))\n",
    "print(s.count(\"mm\"))"
   ]
  },
  {
   "cell_type": "code",
   "execution_count": 70,
   "id": "9f3c2abc",
   "metadata": {},
   "outputs": [
    {
     "data": {
      "text/plain": [
       "11"
      ]
     },
     "execution_count": 70,
     "metadata": {},
     "output_type": "execute_result"
    }
   ],
   "source": [
    "s.index(\"g\")"
   ]
  },
  {
   "cell_type": "code",
   "execution_count": 76,
   "id": "7d2d98cb",
   "metadata": {},
   "outputs": [
    {
     "data": {
      "text/plain": [
       "'i'"
      ]
     },
     "execution_count": 76,
     "metadata": {},
     "output_type": "execute_result"
    }
   ],
   "source": [
    "s.index(\"g\")\n",
    "s[15]"
   ]
  },
  {
   "cell_type": "code",
   "execution_count": 78,
   "id": "c5b94f3e",
   "metadata": {},
   "outputs": [
    {
     "data": {
      "text/plain": [
       "19"
      ]
     },
     "execution_count": 78,
     "metadata": {},
     "output_type": "execute_result"
    }
   ],
   "source": [
    "s.index(\"g\")\n",
    "s.index(\"1\")"
   ]
  },
  {
   "cell_type": "code",
   "execution_count": 73,
   "id": "ce290d6a",
   "metadata": {},
   "outputs": [
    {
     "data": {
      "text/plain": [
       "True"
      ]
     },
     "execution_count": 73,
     "metadata": {},
     "output_type": "execute_result"
    }
   ],
   "source": [
    "s =\"Python Programming\"\n",
    "s.istitle()"
   ]
  },
  {
   "cell_type": "code",
   "execution_count": 74,
   "id": "a6f4c9be",
   "metadata": {},
   "outputs": [
    {
     "data": {
      "text/plain": [
       "False"
      ]
     },
     "execution_count": 74,
     "metadata": {},
     "output_type": "execute_result"
    }
   ],
   "source": [
    "s =\"python programming\"\n",
    "s.istitle()"
   ]
  },
  {
   "cell_type": "code",
   "execution_count": 77,
   "id": "f03e8770",
   "metadata": {},
   "outputs": [
    {
     "data": {
      "text/plain": [
       "False"
      ]
     },
     "execution_count": 77,
     "metadata": {},
     "output_type": "execute_result"
    }
   ],
   "source": [
    "s =\"python programming 123\"\n",
    "s.istitle()"
   ]
  },
  {
   "cell_type": "code",
   "execution_count": 7,
   "id": "ebc43e98",
   "metadata": {},
   "outputs": [
    {
     "data": {
      "text/plain": [
       "'Python Programming 123'"
      ]
     },
     "execution_count": 7,
     "metadata": {},
     "output_type": "execute_result"
    }
   ],
   "source": [
    "s=\"python programming 123\"\n",
    "s.title()"
   ]
  },
  {
   "cell_type": "code",
   "execution_count": 11,
   "id": "acb2e76c",
   "metadata": {},
   "outputs": [
    {
     "data": {
      "text/plain": [
       "False"
      ]
     },
     "execution_count": 11,
     "metadata": {},
     "output_type": "execute_result"
    }
   ],
   "source": [
    "s.startswith(\"P\")"
   ]
  },
  {
   "cell_type": "code",
   "execution_count": 12,
   "id": "7ba3d0f7",
   "metadata": {},
   "outputs": [
    {
     "data": {
      "text/plain": [
       "True"
      ]
     },
     "execution_count": 12,
     "metadata": {},
     "output_type": "execute_result"
    }
   ],
   "source": [
    "s.startswith(\"p\")"
   ]
  },
  {
   "cell_type": "code",
   "execution_count": 83,
   "id": "702d9ed8",
   "metadata": {},
   "outputs": [
    {
     "data": {
      "text/plain": [
       "'APythonA'"
      ]
     },
     "execution_count": 83,
     "metadata": {},
     "output_type": "execute_result"
    }
   ],
   "source": [
    "s = \"Python\"\n",
    "s #APSSDCPythonAPSSDC #@@@@@@Python@@@@@@\n",
    "s.center(8,\"A\")"
   ]
  },
  {
   "cell_type": "code",
   "execution_count": 84,
   "id": "7e2efc06",
   "metadata": {},
   "outputs": [
    {
     "data": {
      "text/plain": [
       "'Python'"
      ]
     },
     "execution_count": 84,
     "metadata": {},
     "output_type": "execute_result"
    }
   ],
   "source": [
    "s = \"Python\"\n",
    "s #APSSDCPythonAPSSDC #@@@@@@Python@@@@@@\n",
    "s.center(5,\"@\")"
   ]
  },
  {
   "cell_type": "code",
   "execution_count": 85,
   "id": "e399d283",
   "metadata": {},
   "outputs": [
    {
     "data": {
      "text/plain": [
       "'APython'"
      ]
     },
     "execution_count": 85,
     "metadata": {},
     "output_type": "execute_result"
    }
   ],
   "source": [
    "s = \"Python\"\n",
    "s #APSSDCPythonAPSSDC #@@@@@@Python@@@@@@\n",
    "s.center(7,\"A\")"
   ]
  },
  {
   "cell_type": "code",
   "execution_count": 86,
   "id": "b3a57d05",
   "metadata": {},
   "outputs": [
    {
     "data": {
      "text/plain": [
       "'1Python1'"
      ]
     },
     "execution_count": 86,
     "metadata": {},
     "output_type": "execute_result"
    }
   ],
   "source": [
    "s = \"Python\"\n",
    "s #APSSDCPythonAPSSDC #@@@@@@Python@@@@@@\n",
    "s.center(8,\"1\")"
   ]
  },
  {
   "cell_type": "code",
   "execution_count": 13,
   "id": "f9bee55c",
   "metadata": {},
   "outputs": [
    {
     "data": {
      "text/plain": [
       "'11Python11'"
      ]
     },
     "execution_count": 13,
     "metadata": {},
     "output_type": "execute_result"
    }
   ],
   "source": [
    "s = \"Python\"\n",
    "s #APSSDCPythonAPSSDC #@@@@@@Python@@@@@@\n",
    "s.center(10,\"1\")"
   ]
  },
  {
   "cell_type": "code",
   "execution_count": 14,
   "id": "5a14b9d4",
   "metadata": {},
   "outputs": [
    {
     "name": "stdout",
     "output_type": "stream",
     "text": [
      "0\n",
      "7\n",
      "14\n",
      "21\n"
     ]
    }
   ],
   "source": [
    "s=\"Python Python Python Programming\"\n",
    "for i in range(len(s)):\n",
    "    #print(i) #0,1,2,3\n",
    "    #print(s[i]) #pyt\n",
    "    if s[i] == \"P\":\n",
    "        print(i)"
   ]
  },
  {
   "cell_type": "code",
   "execution_count": 90,
   "id": "7236d0b7",
   "metadata": {},
   "outputs": [
    {
     "name": "stdout",
     "output_type": "stream",
     "text": [
      "0\n",
      "0\n",
      "0\n",
      "0\n"
     ]
    }
   ],
   "source": [
    "s=\"Python Python Python Programming\"\n",
    "for i in s:\n",
    "    if i == \"P\":\n",
    "        print(s.index(i))"
   ]
  },
  {
   "cell_type": "code",
   "execution_count": null,
   "id": "6d01771a",
   "metadata": {},
   "outputs": [],
   "source": []
  }
 ],
 "metadata": {
  "kernelspec": {
   "display_name": "Python 3",
   "language": "python",
   "name": "python3"
  },
  "language_info": {
   "codemirror_mode": {
    "name": "ipython",
    "version": 3
   },
   "file_extension": ".py",
   "mimetype": "text/x-python",
   "name": "python",
   "nbconvert_exporter": "python",
   "pygments_lexer": "ipython3",
   "version": "3.8.8"
  }
 },
 "nbformat": 4,
 "nbformat_minor": 5
}
