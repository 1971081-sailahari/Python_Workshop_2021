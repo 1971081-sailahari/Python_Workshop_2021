{
 "cells": [
  {
   "cell_type": "markdown",
   "id": "ab76084b",
   "metadata": {},
   "source": [
    "### Todays Topics\n",
    "* break\n",
    "* continue\n",
    "* pass statements\n",
    "* while loop\n",
    "* strings"
   ]
  },
  {
   "cell_type": "code",
   "execution_count": 1,
   "id": "a914d8f4",
   "metadata": {},
   "outputs": [
    {
     "name": "stdout",
     "output_type": "stream",
     "text": [
      "python\n",
      "programming\n",
      "may\n",
      "2021\n"
     ]
    }
   ],
   "source": [
    "l =[\"python\",\"programming\",\"may\",\"2021\"]\n",
    "for i in l:\n",
    "    print(i)"
   ]
  },
  {
   "cell_type": "code",
   "execution_count": 2,
   "id": "e3b61130",
   "metadata": {},
   "outputs": [
    {
     "name": "stdout",
     "output_type": "stream",
     "text": [
      "python10\n",
      "programming10\n",
      "may10\n",
      "202110\n",
      "may10\n"
     ]
    }
   ],
   "source": [
    "l =[\"python\",\"programming\",\"may\",\"2021\",\"may\"]\n",
    "for i in l:\n",
    "    print(i+str(10))"
   ]
  },
  {
   "cell_type": "code",
   "execution_count": 3,
   "id": "fab19bca",
   "metadata": {},
   "outputs": [
    {
     "name": "stdout",
     "output_type": "stream",
     "text": [
      "0\n",
      "1\n",
      "2\n",
      "3\n",
      "4\n"
     ]
    }
   ],
   "source": [
    "for i in range(0,len(l)):\n",
    "    print(i)"
   ]
  },
  {
   "cell_type": "code",
   "execution_count": 4,
   "id": "a82b428f",
   "metadata": {},
   "outputs": [
    {
     "name": "stdout",
     "output_type": "stream",
     "text": [
      "p y t h o n   p r o g r a m m i n g "
     ]
    }
   ],
   "source": [
    "s = \"python programming\"\n",
    "for i in s:\n",
    "    print(i,end = \" \")"
   ]
  },
  {
   "cell_type": "code",
   "execution_count": 5,
   "id": "e0319c51",
   "metadata": {},
   "outputs": [
    {
     "name": "stdout",
     "output_type": "stream",
     "text": [
      "p * y * t * h * o * n *   * p * r * o * g * r * a * m * m * i * n * g * "
     ]
    }
   ],
   "source": [
    "s = \"python programming\"\n",
    "for i in s:\n",
    "    print(i,end = \" * \")"
   ]
  },
  {
   "cell_type": "code",
   "execution_count": 6,
   "id": "4c43ddbd",
   "metadata": {},
   "outputs": [
    {
     "name": "stdout",
     "output_type": "stream",
     "text": [
      "p@y@t@h@o@n@ @p@r@o@g@r@a@m@m@i@n@g@"
     ]
    }
   ],
   "source": [
    "s = \"python programming\"\n",
    "for i in s:\n",
    "    print(i,end = \"@\")"
   ]
  },
  {
   "cell_type": "code",
   "execution_count": 7,
   "id": "6e77023d",
   "metadata": {},
   "outputs": [
    {
     "name": "stdout",
     "output_type": "stream",
     "text": [
      "python programming"
     ]
    }
   ],
   "source": [
    "s = \"python programming\"\n",
    "for i in s:\n",
    "    print(i,end = \"\")"
   ]
  },
  {
   "cell_type": "code",
   "execution_count": 12,
   "id": "e0a5de01",
   "metadata": {},
   "outputs": [
    {
     "name": "stdout",
     "output_type": "stream",
     "text": [
      "3 4 5 6 7 8 9 10 11 12 13 14 15 16 17 "
     ]
    }
   ],
   "source": [
    "for i in range(3,len(s)): #(3,18)\n",
    "    print(i,end = \" \")"
   ]
  },
  {
   "cell_type": "code",
   "execution_count": 13,
   "id": "85d8256e",
   "metadata": {},
   "outputs": [
    {
     "name": "stdout",
     "output_type": "stream",
     "text": [
      "3 h4 o5 n6  7 p8 r9 o10 g11 r12 a13 m14 m15 i16 n17 g"
     ]
    }
   ],
   "source": [
    "for i in range(3,len(s)): #(3,18)\n",
    "    print(i,end = \" \")\n",
    "    print(s[i],end=\"\")"
   ]
  },
  {
   "cell_type": "code",
   "execution_count": 19,
   "id": "149cfef5",
   "metadata": {},
   "outputs": [
    {
     "name": "stdout",
     "output_type": "stream",
     "text": [
      "hon programming"
     ]
    }
   ],
   "source": [
    "for i in range(3,len(s)): #(3,18)\n",
    "    #print(i,end = \" \")\n",
    "    print(s[i],end=\"\")"
   ]
  },
  {
   "cell_type": "code",
   "execution_count": 20,
   "id": "33dc3f4b",
   "metadata": {},
   "outputs": [
    {
     "name": "stdout",
     "output_type": "stream",
     "text": [
      "gmmg"
     ]
    }
   ],
   "source": [
    "s = \"python programming\"\n",
    "for i in s:\n",
    "    if i==\"g\" or i ==\"m\":\n",
    "        print(i,end = \"\")"
   ]
  },
  {
   "cell_type": "code",
   "execution_count": 5,
   "id": "ebf07cf6",
   "metadata": {},
   "outputs": [
    {
     "name": "stdout",
     "output_type": "stream",
     "text": [
      "gmmgggggggg"
     ]
    }
   ],
   "source": [
    "s = \"python programmingggggggg\"\n",
    "for i in s:\n",
    "    if i==\"g\" or i ==\"m\":\n",
    "        print(i,end = \"\")"
   ]
  },
  {
   "cell_type": "code",
   "execution_count": 15,
   "id": "536fd7c5",
   "metadata": {},
   "outputs": [
    {
     "name": "stdout",
     "output_type": "stream",
     "text": [
      "opn"
     ]
    }
   ],
   "source": [
    "for i in range(3,len(s)): #(3,18)\n",
    "    if i ==16 or i==7 or i==4:\n",
    "        print(s[i],end=\"\")"
   ]
  },
  {
   "cell_type": "code",
   "execution_count": 6,
   "id": "b7ac291b",
   "metadata": {},
   "outputs": [
    {
     "data": {
      "text/plain": [
       "['python', 'programming', 'may', '2021', 'may']"
      ]
     },
     "execution_count": 6,
     "metadata": {},
     "output_type": "execute_result"
    }
   ],
   "source": [
    "# break statement\n",
    "l"
   ]
  },
  {
   "cell_type": "code",
   "execution_count": 7,
   "id": "5db9b56c",
   "metadata": {},
   "outputs": [
    {
     "name": "stdout",
     "output_type": "stream",
     "text": [
      "may\n"
     ]
    }
   ],
   "source": [
    "for i in l: #'python','programming','may','2021','may'\n",
    "    if i==\"may\":\n",
    "        print(i)\n",
    "        break"
   ]
  },
  {
   "cell_type": "code",
   "execution_count": 8,
   "id": "16341c9f",
   "metadata": {},
   "outputs": [
    {
     "name": "stdout",
     "output_type": "stream",
     "text": [
      "break executed\n"
     ]
    }
   ],
   "source": [
    "for i in l:\n",
    "    if i==\"may\":\n",
    "        print(\"break executed\")\n",
    "        break"
   ]
  },
  {
   "cell_type": "code",
   "execution_count": 9,
   "id": "ca20bcc6",
   "metadata": {},
   "outputs": [
    {
     "name": "stdout",
     "output_type": "stream",
     "text": [
      "may\n",
      "may\n",
      "\n",
      "python\n",
      "programming\n"
     ]
    }
   ],
   "source": [
    "for i in l:\n",
    "    if i==\"may\":\n",
    "        print(i)\n",
    "print()\n",
    "for i in l: #'python','programming','may','2021','may'\n",
    "    if i==\"may\" or i==\"2021\":\n",
    "        continue\n",
    "    print(i)"
   ]
  },
  {
   "cell_type": "code",
   "execution_count": 10,
   "id": "bdc43530",
   "metadata": {},
   "outputs": [
    {
     "name": "stdout",
     "output_type": "stream",
     "text": [
      "may\n",
      "may\n",
      "\n",
      "python\n",
      "programming\n",
      "2021\n"
     ]
    }
   ],
   "source": [
    "#continue\n",
    "l = [\"python\",\"programming\",\"may\",\"2021\",\"may\"]\n",
    "for i in l:\n",
    "    if i==\"may\":\n",
    "        print(i)\n",
    "print()\n",
    "for i in l:\n",
    "    if i==\"may\":\n",
    "        continue\n",
    "    print(i)"
   ]
  },
  {
   "cell_type": "code",
   "execution_count": 11,
   "id": "a850ce89",
   "metadata": {},
   "outputs": [
    {
     "name": "stdout",
     "output_type": "stream",
     "text": [
      "python\n",
      "programming\n",
      "may\n",
      "2021\n",
      "may\n",
      "\n",
      "python\n",
      "programming\n"
     ]
    }
   ],
   "source": [
    "l = [\"python\",\"programming\",\"may\",\"2021\",\"may\"]\n",
    "for i in l:\n",
    "    #if i==\"may\":\n",
    "        print(i)\n",
    "print()\n",
    "for i in l: #'python','programming','may','2021','may'\n",
    "    if i==\"may\" or i==\"2021\":\n",
    "        continue\n",
    "    print(i)"
   ]
  },
  {
   "cell_type": "code",
   "execution_count": 13,
   "id": "8901dc1e",
   "metadata": {},
   "outputs": [
    {
     "name": "stdout",
     "output_type": "stream",
     "text": [
      "python\n",
      "programming\n",
      "continue\n",
      "2021\n",
      "continue\n",
      "\n",
      "python\n",
      "programming\n",
      "I am learning programming\n",
      "may\n",
      "2021\n",
      "I am learning programming\n",
      "may\n"
     ]
    }
   ],
   "source": [
    "for i in l: #'python','programming','may','2021','may'\n",
    "    if i==\"may\":\n",
    "        print(\"continue\")\n",
    "        continue\n",
    "    print(i)\n",
    "print()\n",
    "for i in l:\n",
    "    if i == \"may\":\n",
    "        print(\"I am learning programming\")\n",
    "        pass\n",
    "    print(i)"
   ]
  },
  {
   "cell_type": "code",
   "execution_count": 11,
   "id": "7158147d",
   "metadata": {},
   "outputs": [
    {
     "name": "stdout",
     "output_type": "stream",
     "text": [
      "python\n",
      "programming\n",
      "continue\n",
      "2021\n",
      "continue\n",
      "\n",
      "python\n",
      "programming\n",
      "I am learning programming\n",
      "I am adding some text\n",
      "may\n",
      "2021\n",
      "I am learning programming\n",
      "I am adding some text\n",
      "may\n"
     ]
    }
   ],
   "source": [
    "for i in l: #'python','programming','may','2021','may'\n",
    "    if i==\"may\":\n",
    "        print(\"continue\")\n",
    "        continue\n",
    "    print(i)\n",
    "print()\n",
    "for i in l:\n",
    "    if i == \"may\":\n",
    "        print(\"I am learning programming\")\n",
    "        print(\"I am adding some text\")\n",
    "        pass #break, continue\n",
    "    print(i)"
   ]
  },
  {
   "cell_type": "code",
   "execution_count": 21,
   "id": "95a41596",
   "metadata": {},
   "outputs": [
    {
     "name": "stdout",
     "output_type": "stream",
     "text": [
      "may\n",
      "2021\n",
      "may\n"
     ]
    }
   ],
   "source": [
    "for I in l: #'python','programming','may','2021','may'\n",
    "    if I ==\"may\" or I ==\"2021\":\n",
    "        print(I)\n",
    "        continue"
   ]
  },
  {
   "cell_type": "code",
   "execution_count": null,
   "id": "ebb79a7a",
   "metadata": {},
   "outputs": [],
   "source": []
  }
 ],
 "metadata": {
  "kernelspec": {
   "display_name": "Python 3",
   "language": "python",
   "name": "python3"
  },
  "language_info": {
   "codemirror_mode": {
    "name": "ipython",
    "version": 3
   },
   "file_extension": ".py",
   "mimetype": "text/x-python",
   "name": "python",
   "nbconvert_exporter": "python",
   "pygments_lexer": "ipython3",
   "version": "3.8.8"
  }
 },
 "nbformat": 4,
 "nbformat_minor": 5
}
