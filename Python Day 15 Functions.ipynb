{
 "cells": [
  {
   "cell_type": "markdown",
   "id": "ca806f0d",
   "metadata": {},
   "source": [
    "### Function\n",
    "- A function is a set of statements that take inputs, do some specific computation and produces output.\n",
    "- Functions are reusable.\n",
    "\n",
    "**Parameters:**\n",
    "   A parameter is a variable used to define a particular value during a function definition.\n",
    " \n",
    " **Arguments:**\n",
    "   A argument is a value passed to a function at the time of function callling.\n",
    " \n",
    "     Syntax:   def function_name(define_parameters):\n",
    "                   statement1\n",
    "                   statement2\n",
    "                   statement3\n",
    "                   .\n",
    "                   .\n",
    "                   statementn\n",
    "                function_name(pass arguments)"
   ]
  },
  {
   "cell_type": "code",
   "execution_count": 1,
   "id": "9d72e95c",
   "metadata": {},
   "outputs": [
    {
     "name": "stdout",
     "output_type": "stream",
     "text": [
      "5 is odd\n"
     ]
    }
   ],
   "source": [
    "n=5\n",
    "if(n%2 == 0):\n",
    "    print(n,\"is even\")\n",
    "else:\n",
    "    print(n,\"is odd\")"
   ]
  },
  {
   "cell_type": "code",
   "execution_count": 1,
   "id": "5eb4734a",
   "metadata": {},
   "outputs": [],
   "source": [
    "def isEvenorOdd(n): #n=5\n",
    "    if(n%2 == 0):\n",
    "        print(n,\"is even\")\n",
    "    else:\n",
    "        print(n,\"is odd\")"
   ]
  },
  {
   "cell_type": "code",
   "execution_count": 2,
   "id": "463552f0",
   "metadata": {},
   "outputs": [
    {
     "name": "stdout",
     "output_type": "stream",
     "text": [
      "5 is odd\n"
     ]
    }
   ],
   "source": [
    "isEvenorOdd(5)"
   ]
  },
  {
   "cell_type": "code",
   "execution_count": 3,
   "id": "8bdc9ddf",
   "metadata": {},
   "outputs": [],
   "source": [
    "def isEvenorOdd(n):\n",
    "    if(n%2 == 0):\n",
    "        print(n,\"is even\")\n",
    "    else:\n",
    "        print(n,\"is odd\")"
   ]
  },
  {
   "cell_type": "code",
   "execution_count": 4,
   "id": "4d2a52f9",
   "metadata": {},
   "outputs": [
    {
     "ename": "TypeError",
     "evalue": "isEvenorOdd() takes 1 positional argument but 2 were given",
     "output_type": "error",
     "traceback": [
      "\u001b[1;31m---------------------------------------------------------------------------\u001b[0m",
      "\u001b[1;31mTypeError\u001b[0m                                 Traceback (most recent call last)",
      "\u001b[1;32m<ipython-input-4-fb8966083dd3>\u001b[0m in \u001b[0;36m<module>\u001b[1;34m\u001b[0m\n\u001b[1;32m----> 1\u001b[1;33m \u001b[0misEvenorOdd\u001b[0m\u001b[1;33m(\u001b[0m\u001b[1;36m5\u001b[0m\u001b[1;33m,\u001b[0m\u001b[1;36m4\u001b[0m\u001b[1;33m)\u001b[0m\u001b[1;33m\u001b[0m\u001b[1;33m\u001b[0m\u001b[0m\n\u001b[0m",
      "\u001b[1;31mTypeError\u001b[0m: isEvenorOdd() takes 1 positional argument but 2 were given"
     ]
    }
   ],
   "source": [
    "isEvenorOdd(5,4)"
   ]
  },
  {
   "cell_type": "code",
   "execution_count": 2,
   "id": "df938430",
   "metadata": {},
   "outputs": [
    {
     "name": "stdout",
     "output_type": "stream",
     "text": [
      "5\n"
     ]
    }
   ],
   "source": [
    "def add(a,b): #a=2,b=3\n",
    "    print(a+b)\n",
    "    \n",
    "add(2,3)"
   ]
  },
  {
   "cell_type": "code",
   "execution_count": 3,
   "id": "9a64ab76",
   "metadata": {},
   "outputs": [
    {
     "name": "stdout",
     "output_type": "stream",
     "text": [
      "I printed\n",
      "I returned\n"
     ]
    }
   ],
   "source": [
    "def fun_that_prints():\n",
    "    print(\"I printed\")\n",
    "def fun_that_returns():\n",
    "    return(\"I returned\")\n",
    "\n",
    "fun_that_prints()\n",
    "print(fun_that_returns())"
   ]
  },
  {
   "cell_type": "code",
   "execution_count": 9,
   "id": "5b3662b4",
   "metadata": {},
   "outputs": [
    {
     "name": "stdout",
     "output_type": "stream",
     "text": [
      "5\n"
     ]
    }
   ],
   "source": [
    "def floor():\n",
    "    print(5)\n",
    "def ceil():\n",
    "    return 7\n",
    "\n",
    "floor()"
   ]
  },
  {
   "cell_type": "code",
   "execution_count": 10,
   "id": "b3e78226",
   "metadata": {},
   "outputs": [
    {
     "name": "stdout",
     "output_type": "stream",
     "text": [
      "5\n",
      "5\n",
      "None\n"
     ]
    }
   ],
   "source": [
    "def floor():\n",
    "    print(5)\n",
    "def ceil():\n",
    "    return 7\n",
    "\n",
    "floor()\n",
    "print(floor())"
   ]
  },
  {
   "cell_type": "code",
   "execution_count": 12,
   "id": "cb5c7195",
   "metadata": {},
   "outputs": [
    {
     "name": "stdout",
     "output_type": "stream",
     "text": [
      "5\n",
      "None\n",
      "7\n"
     ]
    }
   ],
   "source": [
    "def floor():\n",
    "    print(5)\n",
    "def ceil():\n",
    "    return 7\n",
    "\n",
    "print(floor())\n",
    "print(ceil())"
   ]
  },
  {
   "cell_type": "code",
   "execution_count": 13,
   "id": "655aa931",
   "metadata": {},
   "outputs": [
    {
     "name": "stdout",
     "output_type": "stream",
     "text": [
      "5\n",
      "None\n",
      "5\n",
      "None\n"
     ]
    }
   ],
   "source": [
    "def floor():\n",
    "    print(5)\n",
    "def ceil():\n",
    "    return 7\n",
    "\n",
    "print(floor())\n",
    "print(floor())"
   ]
  },
  {
   "cell_type": "code",
   "execution_count": 15,
   "id": "c1461fc7",
   "metadata": {},
   "outputs": [
    {
     "name": "stdout",
     "output_type": "stream",
     "text": [
      "5\n",
      "N factorial is: 120\n"
     ]
    }
   ],
   "source": [
    "def factorial(n):\n",
    "    fact=1\n",
    "    if(n == 1):\n",
    "        print(1)\n",
    "    else:\n",
    "        for i in range(1,n+1):\n",
    "            fact*= i\n",
    "        print(\"N factorial is:\",fact)\n",
    "        \n",
    "m = int(input())\n",
    "factorial(m)"
   ]
  },
  {
   "cell_type": "markdown",
   "id": "e48beed2",
   "metadata": {},
   "source": [
    "#### Types of functions in python\n",
    "1. Without arguments & Without return values\n",
    "2. Without arguments & With return value\n",
    "3. With arguments & Without return value\n",
    "4. With arguments & With return value"
   ]
  },
  {
   "cell_type": "code",
   "execution_count": 17,
   "id": "f296c414",
   "metadata": {},
   "outputs": [
    {
     "name": "stdout",
     "output_type": "stream",
     "text": [
      "8\n"
     ]
    }
   ],
   "source": [
    "# Without arguments & Without return values\n",
    "\n",
    "def addition():\n",
    "    a,b = 5,3\n",
    "    print(a+b)\n",
    "    \n",
    "addition()"
   ]
  },
  {
   "cell_type": "code",
   "execution_count": 22,
   "id": "f6db6de8",
   "metadata": {},
   "outputs": [
    {
     "data": {
      "text/plain": [
       "15"
      ]
     },
     "execution_count": 22,
     "metadata": {},
     "output_type": "execute_result"
    }
   ],
   "source": [
    "# Without arguments & With return value\n",
    "\n",
    "def multiplication():\n",
    "    a,b = 5,3\n",
    "    res = a*b\n",
    "    return res\n",
    "\n",
    "multiplication()"
   ]
  },
  {
   "cell_type": "code",
   "execution_count": 20,
   "id": "ccfbd323",
   "metadata": {},
   "outputs": [
    {
     "name": "stdout",
     "output_type": "stream",
     "text": [
      "15\n"
     ]
    }
   ],
   "source": [
    "# Without arguments & With return value\n",
    "\n",
    "def multiplication():\n",
    "    a,b = 5,3\n",
    "    res = a*b\n",
    "    return res\n",
    "\n",
    "print(multiplication())"
   ]
  },
  {
   "cell_type": "code",
   "execution_count": 24,
   "id": "da00b418",
   "metadata": {},
   "outputs": [
    {
     "name": "stdout",
     "output_type": "stream",
     "text": [
      "6\n"
     ]
    }
   ],
   "source": [
    "# With arguments & Without return value\n",
    "\n",
    "def multiplication(a,b):\n",
    "    print(a*b)\n",
    "    \n",
    "multiplication(2,3)"
   ]
  },
  {
   "cell_type": "code",
   "execution_count": 26,
   "id": "3a78bea8",
   "metadata": {},
   "outputs": [
    {
     "name": "stdout",
     "output_type": "stream",
     "text": [
      "20\n"
     ]
    }
   ],
   "source": [
    "# With arguments & With return value\n",
    "\n",
    "def mul(a,b):\n",
    "    res = a*b\n",
    "    return res\n",
    "    \n",
    "print(mul(5,4))"
   ]
  },
  {
   "cell_type": "markdown",
   "id": "4c95c900",
   "metadata": {},
   "source": [
    "### Types of arguments\n",
    "1. Actual arguments\n",
    "2. Formal arguments\n",
    "\n",
    "1. Actual arguments\n",
    "   \n",
    "   * A. Position\n",
    "   * B. Keyword\n",
    "   * C. Default\n",
    "   * D. Variable length arguments"
   ]
  },
  {
   "cell_type": "code",
   "execution_count": 4,
   "id": "7393a0df",
   "metadata": {},
   "outputs": [
    {
     "name": "stdout",
     "output_type": "stream",
     "text": [
      "11\n"
     ]
    }
   ],
   "source": [
    "def add(a,b): # Formal arguments\n",
    "    c = a+b\n",
    "    print(c)\n",
    "    \n",
    "add(5,6) # Actuual arguments"
   ]
  },
  {
   "cell_type": "code",
   "execution_count": 6,
   "id": "ff450a14",
   "metadata": {},
   "outputs": [
    {
     "name": "stdout",
     "output_type": "stream",
     "text": [
      "Person name: xyz\n",
      "Person age: 21\n"
     ]
    }
   ],
   "source": [
    "# 1.Positional arguments\n",
    "\n",
    "def person(name,age): # name= \"xyz\", age= 21\n",
    "    print(\"Person name:\",name)\n",
    "    print(\"Person age:\",age)\n",
    "    \n",
    "person(\"xyz\",21)"
   ]
  },
  {
   "cell_type": "code",
   "execution_count": 7,
   "id": "bd6fa623",
   "metadata": {},
   "outputs": [
    {
     "name": "stdout",
     "output_type": "stream",
     "text": [
      "Person name: 30\n",
      "Person age: xyz\n"
     ]
    }
   ],
   "source": [
    "def person(name,age): # name=30, age=\"xyz\"\n",
    "    print(\"Person name:\",name)\n",
    "    print(\"Person age:\",age)\n",
    "    \n",
    "person(30,\"xyz\")"
   ]
  },
  {
   "cell_type": "code",
   "execution_count": 8,
   "id": "c45d6948",
   "metadata": {},
   "outputs": [
    {
     "name": "stdout",
     "output_type": "stream",
     "text": [
      "Person name: 30\n"
     ]
    },
    {
     "ename": "TypeError",
     "evalue": "unsupported operand type(s) for -: 'str' and 'int'",
     "output_type": "error",
     "traceback": [
      "\u001b[1;31m---------------------------------------------------------------------------\u001b[0m",
      "\u001b[1;31mTypeError\u001b[0m                                 Traceback (most recent call last)",
      "\u001b[1;32m<ipython-input-8-30aa8111d4e9>\u001b[0m in \u001b[0;36m<module>\u001b[1;34m\u001b[0m\n\u001b[0;32m      3\u001b[0m     \u001b[0mprint\u001b[0m\u001b[1;33m(\u001b[0m\u001b[1;34m\"Person age:\"\u001b[0m\u001b[1;33m,\u001b[0m\u001b[0mage\u001b[0m\u001b[1;33m-\u001b[0m\u001b[1;36m1\u001b[0m\u001b[1;33m)\u001b[0m\u001b[1;33m\u001b[0m\u001b[1;33m\u001b[0m\u001b[0m\n\u001b[0;32m      4\u001b[0m \u001b[1;33m\u001b[0m\u001b[0m\n\u001b[1;32m----> 5\u001b[1;33m \u001b[0mperson\u001b[0m\u001b[1;33m(\u001b[0m\u001b[1;36m30\u001b[0m\u001b[1;33m,\u001b[0m\u001b[1;34m\"xyz\"\u001b[0m\u001b[1;33m)\u001b[0m\u001b[1;33m\u001b[0m\u001b[1;33m\u001b[0m\u001b[0m\n\u001b[0m",
      "\u001b[1;32m<ipython-input-8-30aa8111d4e9>\u001b[0m in \u001b[0;36mperson\u001b[1;34m(name, age)\u001b[0m\n\u001b[0;32m      1\u001b[0m \u001b[1;32mdef\u001b[0m \u001b[0mperson\u001b[0m\u001b[1;33m(\u001b[0m\u001b[0mname\u001b[0m\u001b[1;33m,\u001b[0m\u001b[0mage\u001b[0m\u001b[1;33m)\u001b[0m\u001b[1;33m:\u001b[0m\u001b[1;33m\u001b[0m\u001b[1;33m\u001b[0m\u001b[0m\n\u001b[0;32m      2\u001b[0m     \u001b[0mprint\u001b[0m\u001b[1;33m(\u001b[0m\u001b[1;34m\"Person name:\"\u001b[0m\u001b[1;33m,\u001b[0m\u001b[0mname\u001b[0m\u001b[1;33m)\u001b[0m\u001b[1;33m\u001b[0m\u001b[1;33m\u001b[0m\u001b[0m\n\u001b[1;32m----> 3\u001b[1;33m     \u001b[0mprint\u001b[0m\u001b[1;33m(\u001b[0m\u001b[1;34m\"Person age:\"\u001b[0m\u001b[1;33m,\u001b[0m\u001b[0mage\u001b[0m\u001b[1;33m-\u001b[0m\u001b[1;36m1\u001b[0m\u001b[1;33m)\u001b[0m\u001b[1;33m\u001b[0m\u001b[1;33m\u001b[0m\u001b[0m\n\u001b[0m\u001b[0;32m      4\u001b[0m \u001b[1;33m\u001b[0m\u001b[0m\n\u001b[0;32m      5\u001b[0m \u001b[0mperson\u001b[0m\u001b[1;33m(\u001b[0m\u001b[1;36m30\u001b[0m\u001b[1;33m,\u001b[0m\u001b[1;34m\"xyz\"\u001b[0m\u001b[1;33m)\u001b[0m\u001b[1;33m\u001b[0m\u001b[1;33m\u001b[0m\u001b[0m\n",
      "\u001b[1;31mTypeError\u001b[0m: unsupported operand type(s) for -: 'str' and 'int'"
     ]
    }
   ],
   "source": [
    "def person(name,age):\n",
    "    print(\"Person name:\",name)\n",
    "    print(\"Person age:\",age-1)\n",
    "    \n",
    "person(30,\"xyz\")"
   ]
  },
  {
   "cell_type": "code",
   "execution_count": 9,
   "id": "0016ebdd",
   "metadata": {},
   "outputs": [
    {
     "name": "stdout",
     "output_type": "stream",
     "text": [
      "Person name: xyz\n",
      "Person age: 29\n"
     ]
    }
   ],
   "source": [
    "# 2.Keyword arguments\n",
    "def person(name,age):\n",
    "    print(\"Person name:\",name)\n",
    "    print(\"Person age:\",age-1)\n",
    "    \n",
    "person(age=30,name=\"xyz\")"
   ]
  },
  {
   "cell_type": "code",
   "execution_count": 10,
   "id": "c4130afd",
   "metadata": {},
   "outputs": [
    {
     "name": "stdout",
     "output_type": "stream",
     "text": [
      "Person name: xyz\n",
      "Person age: 20\n"
     ]
    }
   ],
   "source": [
    "# 3.Default arguments\n",
    "def person(name,age=21):\n",
    "    print(\"Person name:\",name)\n",
    "    print(\"Person age:\",age-1)\n",
    "    \n",
    "person(\"xyz\")"
   ]
  },
  {
   "cell_type": "code",
   "execution_count": 11,
   "id": "ab722861",
   "metadata": {},
   "outputs": [
    {
     "name": "stdout",
     "output_type": "stream",
     "text": [
      "Person name: xyz\n",
      "Person age: 30\n"
     ]
    }
   ],
   "source": [
    "def person(name=\"abc\",age=21): #name=\"xyz\", age=30\n",
    "    print(\"Person name:\",name)\n",
    "    print(\"Person age:\",age)\n",
    "    \n",
    "person(\"xyz\",30)"
   ]
  },
  {
   "cell_type": "code",
   "execution_count": 12,
   "id": "4203df13",
   "metadata": {},
   "outputs": [
    {
     "ename": "TypeError",
     "evalue": "add() takes 2 positional arguments but 4 were given",
     "output_type": "error",
     "traceback": [
      "\u001b[1;31m---------------------------------------------------------------------------\u001b[0m",
      "\u001b[1;31mTypeError\u001b[0m                                 Traceback (most recent call last)",
      "\u001b[1;32m<ipython-input-12-23b4a37104fd>\u001b[0m in \u001b[0;36m<module>\u001b[1;34m\u001b[0m\n\u001b[0;32m      3\u001b[0m     \u001b[0mprint\u001b[0m\u001b[1;33m(\u001b[0m\u001b[0ma\u001b[0m\u001b[1;33m+\u001b[0m\u001b[0mb\u001b[0m\u001b[1;33m)\u001b[0m\u001b[1;33m\u001b[0m\u001b[1;33m\u001b[0m\u001b[0m\n\u001b[0;32m      4\u001b[0m \u001b[1;33m\u001b[0m\u001b[0m\n\u001b[1;32m----> 5\u001b[1;33m \u001b[0madd\u001b[0m\u001b[1;33m(\u001b[0m\u001b[1;36m1\u001b[0m\u001b[1;33m,\u001b[0m\u001b[1;36m2\u001b[0m\u001b[1;33m,\u001b[0m\u001b[1;36m3\u001b[0m\u001b[1;33m,\u001b[0m\u001b[1;36m4\u001b[0m\u001b[1;33m)\u001b[0m\u001b[1;33m\u001b[0m\u001b[1;33m\u001b[0m\u001b[0m\n\u001b[0m",
      "\u001b[1;31mTypeError\u001b[0m: add() takes 2 positional arguments but 4 were given"
     ]
    }
   ],
   "source": [
    "# 4.Variable length arguments\n",
    "def add(a,b):\n",
    "    print(a+b)\n",
    "    \n",
    "add(1,2,3,4)"
   ]
  },
  {
   "cell_type": "code",
   "execution_count": 13,
   "id": "660207f0",
   "metadata": {},
   "outputs": [
    {
     "name": "stdout",
     "output_type": "stream",
     "text": [
      "a= 1\n",
      "b= (2, 3, 4)\n"
     ]
    }
   ],
   "source": [
    "def add(a,*b):\n",
    "    print(\"a=\",a)\n",
    "    print(\"b=\",b)\n",
    "    \n",
    "add(1,2,3,4)"
   ]
  },
  {
   "cell_type": "code",
   "execution_count": 14,
   "id": "1a32bbf0",
   "metadata": {},
   "outputs": [
    {
     "name": "stdout",
     "output_type": "stream",
     "text": [
      "10\n"
     ]
    }
   ],
   "source": [
    "def add(a,*b):\n",
    "    s = a\n",
    "    for i in b:\n",
    "        s += i\n",
    "    print(s)\n",
    "    \n",
    "    \n",
    "add(1,2,3,4)"
   ]
  },
  {
   "cell_type": "code",
   "execution_count": null,
   "id": "4f2237b0",
   "metadata": {},
   "outputs": [],
   "source": []
  }
 ],
 "metadata": {
  "kernelspec": {
   "display_name": "Python 3",
   "language": "python",
   "name": "python3"
  },
  "language_info": {
   "codemirror_mode": {
    "name": "ipython",
    "version": 3
   },
   "file_extension": ".py",
   "mimetype": "text/x-python",
   "name": "python",
   "nbconvert_exporter": "python",
   "pygments_lexer": "ipython3",
   "version": "3.8.8"
  }
 },
 "nbformat": 4,
 "nbformat_minor": 5
}
